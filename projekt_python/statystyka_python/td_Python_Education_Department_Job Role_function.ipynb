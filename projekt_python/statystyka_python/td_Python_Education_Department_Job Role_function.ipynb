{
 "cells": [
  {
   "cell_type": "markdown",
   "metadata": {},
   "source": [
    "## W tym roboczym notebooku mam załadowane swoje nazwy zmiennych dla 'data' będzie to total_list (lista wszystkich atrybutów od Pawła) i lista do której wypluwa wyniki nie jest jak u Eli 'all_found' tylko jest 'all_found_test' (tak zrobiłem na potrzeby testów, można zmienić nazwę i będzie ładować do tej samej listy pierwotnej 'all_found', ale też przy próbach integracji mojego kodu z kodem Eli, załadowałem do siebie jej zmienne, żeby jej/Twoja funkcja zadziałała - trzeba stworzyć notebook z w miare ujednoliconymi nazwami zmiennych i naszymi kodami do prac nad sklejką całości.\n",
    "\n",
    "# Moja funkcja w ostatniej komórce."
   ]
  },
  {
   "cell_type": "code",
   "execution_count": null,
   "metadata": {},
   "outputs": [],
   "source": [
    "import pandas as pd\n",
    "import os\n",
    "import numpy as np\n",
    "from matplotlib import pyplot"
   ]
  },
  {
   "cell_type": "code",
   "execution_count": null,
   "metadata": {},
   "outputs": [],
   "source": [
    "file_path = \"/home/t/ds/projekt_grupowy_who_am_i/WA_Fn-UseC_-HR-Employee-Attrition.csv\""
   ]
  },
  {
   "cell_type": "code",
   "execution_count": null,
   "metadata": {},
   "outputs": [],
   "source": [
    "df= pd.read_csv(file_path)"
   ]
  },
  {
   "cell_type": "code",
   "execution_count": null,
   "metadata": {},
   "outputs": [],
   "source": [
    "data_frame = pd.read_csv(file_path)"
   ]
  },
  {
   "cell_type": "code",
   "execution_count": null,
   "metadata": {
    "scrolled": true
   },
   "outputs": [],
   "source": [
    "df"
   ]
  },
  {
   "cell_type": "code",
   "execution_count": null,
   "metadata": {},
   "outputs": [],
   "source": [
    "data_frame"
   ]
  },
  {
   "cell_type": "code",
   "execution_count": null,
   "metadata": {
    "scrolled": true
   },
   "outputs": [],
   "source": [
    "print(list(df))"
   ]
  },
  {
   "cell_type": "code",
   "execution_count": null,
   "metadata": {
    "scrolled": true
   },
   "outputs": [],
   "source": [
    "mon_edu_job = (df[[\"MonthlyIncome\", \"Education\", \"JobRole\"]])\n",
    "mon_edu_job"
   ]
  },
  {
   "cell_type": "code",
   "execution_count": null,
   "metadata": {},
   "outputs": [],
   "source": [
    "total_base = (df[['MonthlyIncome', 'EducationField', 'Education', 'TotalWorkingYears', 'Department', 'JobRole']])"
   ]
  },
  {
   "cell_type": "code",
   "execution_count": null,
   "metadata": {
    "scrolled": true
   },
   "outputs": [],
   "source": [
    "# educationfield = (data_frame[['EducationField', 'MonthlyIncome']])\n",
    "# print(educationfield)\n",
    "#print(total_base)\n",
    "lista_Monthlyincome = list(total_base['MonthlyIncome'])\n",
    "lista_EducationField = list(total_base['EducationField'])\n",
    "lista_Education = list(total_base['Education'])\n",
    "lista_Department = list(total_base['Department'])\n",
    "lista_TotalWorkingYears = list(total_base['TotalWorkingYears'])\n",
    "lista_JobRole = list(total_base['JobRole'])\n",
    "#lista_Mon_Edu = list(zip(lista_Monthlyincome, lista_EducationField))\n",
    "# print(lista_Mon_Edu)\n",
    "#print(sorted(lista_Mon_Edu, key = lambda x: x[1]))\n",
    "total_list = list(zip(lista_Monthlyincome, lista_EducationField, lista_Education, lista_Department, lista_TotalWorkingYears, lista_JobRole))\n",
    "total_list\n",
    "#total_list_sorted = (sorted(total_list, key = lambda x: x[1]))\n",
    "#total_list_sorted"
   ]
  },
  {
   "cell_type": "code",
   "execution_count": null,
   "metadata": {},
   "outputs": [],
   "source": [
    "def depart_job_range(data, min_value, max_value):\n",
    "    all_found = []\n",
    "    for element in data:\n",
    "        if str(max_value) == 'no max':\n",
    "            max_value = 2147483647\n",
    "        if element[0] >= int(min_value) and element[0] < int(max_value):\n",
    "            add_to_all_found = True\n",
    "            for element2 in all_found:\n",
    "                for key, value in element2.items():\n",
    "                    klucz = key\n",
    "                    wartosc = value\n",
    "                if klucz == element[1] and wartosc == element[2]:\n",
    "                    add_to_all_found = False\n",
    "                    break\n",
    "            if add_to_all_found:\n",
    "                #print(str(element[1]) + ' ' + element[2])\n",
    "                #printed.update({element[1]: element[2]})\n",
    "                all_found.append({element[1]: element[2]}) \n",
    "    return all_found"
   ]
  },
  {
   "cell_type": "code",
   "execution_count": null,
   "metadata": {},
   "outputs": [],
   "source": [
    "all_printed = []\n",
    "for element in total_base:\n",
    "    if element[4] = 0 and element[4] > 5 :\n",
    "        #printed = {}\n",
    "        do_not_print = False\n",
    "        for element2 in all_printed:\n",
    "            for key, value in element2.items():\n",
    "                klucz = key\n",
    "                wartosc = value\n",
    "            if klucz == element[1] and wartosc == element[2]:\n",
    "                do_not_print = True\n",
    "                break\n",
    "        if not do_not_print:\n",
    "            print(str(element[1]) + ' ' + element[2])\n",
    "            #printed.update({element[1]: element[2]})\n",
    "            all_printed.append({element[1]: element[2]})"
   ]
  },
  {
   "cell_type": "code",
   "execution_count": null,
   "metadata": {},
   "outputs": [],
   "source": [
    "def edu_monthly(data, min_value, max_value):\n",
    "    all_found_test = []\n",
    "    for element in data:\n",
    "#         if str(max_value) == 'no max':\n",
    "#             max_value = 2147483647\n",
    "        if element[2] >= int(min_value) and element[2] <= int(max_value):\n",
    "            add_to_all_found_test = True\n",
    "            for element2 in all_found_test:\n",
    "                for key, value in element2.items():\n",
    "                    klucz = key\n",
    "                    wartosc = value\n",
    "                if klucz == element[1] and wartosc == element[2]:\n",
    "                    add_to_all_found_test = False\n",
    "                    break\n",
    "            if add_to_all_found_test:\n",
    "                all_found_test.append({element[1]: element[2]})\n",
    "    return all_found_test"
   ]
  },
  {
   "cell_type": "code",
   "execution_count": null,
   "metadata": {},
   "outputs": [],
   "source": [
    "## PRAWIDLOWY KAWALEK KODU - WSADZIC DO CALOSCI\n",
    "def edu_monthly(data, user_value):\n",
    "    all_found_test = []\n",
    "    for element in data:\n",
    "#         if str(max_value) == 'no max':\n",
    "#             max_value = 2147483647\n",
    "        if element[2] == user_value:\n",
    "            add_to_all_found_test = True\n",
    "            for element2 in all_found_test:\n",
    "                for key, value in element2.items():\n",
    "                    klucz = key\n",
    "                    wartosc = value\n",
    "                if klucz == element[3] and wartosc == element[5] :\n",
    "                    add_to_all_found_test = False\n",
    "                    break\n",
    "            if add_to_all_found_test:\n",
    "                all_found_test.append({element[3]: element[5]})\n",
    "    return all_found_test"
   ]
  },
  {
   "cell_type": "code",
   "execution_count": null,
   "metadata": {
    "scrolled": false
   },
   "outputs": [],
   "source": [
    "edu_monthly(total_list, 5)"
   ]
  },
  {
   "cell_type": "code",
   "execution_count": null,
   "metadata": {},
   "outputs": [],
   "source": [
    "1 'Below College' 2 'College' 3 'Bachelor' 4 'Master' 5 'Doctor'"
   ]
  },
  {
   "cell_type": "code",
   "execution_count": null,
   "metadata": {},
   "outputs": [],
   "source": [
    "import ipywidgets as widgets"
   ]
  },
  {
   "cell_type": "code",
   "execution_count": null,
   "metadata": {},
   "outputs": [],
   "source": [
    "select = (options=[\"fruits\", \"human\"], value=\"fruits\")\n",
    "\n",
    "text_input_1 = TextInput()\n",
    "text_input_2 = TextInput()\n",
    "\n",
    "layout = column(select, row(text_input_1, text_input_2))\n",
    "\n",
    "def select_change(attrname, old, new):\n",
    "    choice = new\n",
    "    if choice == \"fruits\":\n",
    "        text_input_1.title = \"Price\"\n",
    "        text_input_2.title = \"Quantity\"\n",
    "\n",
    "    elif choice == \"human\":\n",
    "        text_input_1.title = \"Name\"\n",
    "        text_input_2.title = \"Age\"\n",
    "\n",
    "select.on_change('value', select_change)"
   ]
  },
  {
   "cell_type": "code",
   "execution_count": null,
   "metadata": {},
   "outputs": [],
   "source": [
    "#Proba z Widgetem na input\n",
    "\n",
    "widgets.Dropdown(\n",
    "    options=[('Below College',1), ('College', 2), ('Bachelor', 3), ('Master',4), ('Doctor',5)],\n",
    "    value= 2,\n",
    "    description='Number:')\n",
    "\n",
    "\n",
    "# print('proba: ')\n",
    "# if value == 4 :\n",
    "#     wyniki = edu_monthly(total_list_sorted, 1, 5)\n",
    "#     for wyniki in wyniki:\n",
    "#         for key, value in wynik.items():\n",
    "#             print('Departament: ' + str(key) + '   Stanowisko: ' + str(value))"
   ]
  },
  {
   "cell_type": "code",
   "execution_count": null,
   "metadata": {},
   "outputs": [],
   "source": [
    "poziomy = ['Below College', 'College', 'Bachelor', 'Master', 'Doctor']"
   ]
  },
  {
   "cell_type": "code",
   "execution_count": null,
   "metadata": {
    "scrolled": true
   },
   "outputs": [],
   "source": [
    "value1 = str(input('Korzystajac z listy, wybierz swoj poziom wyksztalcenia: '))\n",
    "\n",
    "\n",
    "print('proba:')\n",
    "if value1 == \"Below College\":\n",
    "    wynik = edu_monthly(total_list, 1)\n",
    "    for wynik in wynik:\n",
    "        for key, value in wynik.items():\n",
    "            print('Departament: ' + str(key) + '   Stanowisko: ' + str(value))\n"
   ]
  },
  {
   "cell_type": "code",
   "execution_count": null,
   "metadata": {},
   "outputs": [],
   "source": [
    "department_mincome_job = (data_frame[[\"MonthlyIncome\", \"Department\", \"JobRole\"]])\n"
   ]
  },
  {
   "cell_type": "code",
   "execution_count": null,
   "metadata": {},
   "outputs": [],
   "source": [
    "list_mincome = list(department_mincome_job['MonthlyIncome'])\n",
    "#print(list_mincome)\n",
    "list_department = list(department_mincome_job['Department'])\n",
    "#print(list_department)\n",
    "list_jobrole = list(department_mincome_job['JobRole'])\n",
    "#print(list_jobrole)\n",
    "list_mincome_dep_jobr = sorted(list(zip(list_mincome, list_department, list_jobrole)))\n",
    "print(list_mincome_dep_jobr)\n",
    "#print(sorted(list_mincome_dep_jobr, key = lambda x: x[1]))"
   ]
  },
  {
   "cell_type": "code",
   "execution_count": null,
   "metadata": {
    "scrolled": false
   },
   "outputs": [],
   "source": [
    "value = int(input('Jakie są Twoje wymarzone zarobki?:'))\n",
    "print(\"\")\n",
    "print(poziomy)\n",
    "value1 = str(input('Korzystajac z listy, wybierz swoj poziom wyksztalcenia: '))\n",
    "\n",
    "\n",
    "print('Oto propozycje stanowisk dla Ciebie:')\n",
    "if value >= 11001:\n",
    "    wyniki = depart_job_range(list_mincome_dep_jobr, 11001, \"no max\")\n",
    "    for wynik in wyniki:\n",
    "        for key, value in wynik.items():\n",
    "            print('Departament: ' + str(key) + '   Stanowisko: ' + str(value))\n",
    "elif value >=9001 and value < 11000:\n",
    "    wyniki = depart_job_range(list_mincome_dep_jobr, 9001, 11000)\n",
    "    for wynik in wyniki:\n",
    "        for key, value in wynik.items():\n",
    "            print('Departament: ' + str(key) + '   Stanowisko: ' + str(value))  \n",
    "elif value >= 5001 and value < 9000:\n",
    "    wyniki = depart_job_range(list_mincome_dep_jobr, 5001, 9000)\n",
    "    for wynik in wyniki:\n",
    "        for key, value in wynik.items():\n",
    "            print('Departament: ' + str(key) + '   Stanowisko: ' + str(value))\n",
    "elif value >= 3001 and value < 5000:\n",
    "    wyniki = depart_job_range(list_mincome_dep_jobr, 3001, 5000)\n",
    "    for wynik in wyniki:\n",
    "        for key, value in wynik.items():\n",
    "            print('Departament: ' + str(key) + '   Stanowisko: ' + str(value))\n",
    "elif value < 3000:\n",
    "    wyniki = depart_job_range(list_mincome_dep_jobr, 0, 3000)\n",
    "    for wynik in wyniki:\n",
    "        for key, value in wynik.items():\n",
    "            print('Departament: ' + str(key) + '   Stanowisko: ' + str(value)) \n",
    "else:\n",
    "    print('nic')\n",
    "    \n",
    "print('proba:')\n",
    "if value1 == \"Below College\":\n",
    "    wynik = edu_monthly(total_list, 1)\n",
    "    for wynik in wynik:\n",
    "        for key, value in wynik.items():\n",
    "            print('Departament: ' + str(key) + '   Stanowisko: ' + str(value))\n"
   ]
  },
  {
   "cell_type": "code",
   "execution_count": null,
   "metadata": {},
   "outputs": [],
   "source": [
    "## PRAWIDLOWY KAWALEK KODU - WSADZIC DO CALOSCI\n",
    "def edu_monthly(data, user_value):\n",
    "    all_found_test = [] #tu zdefiniowalem sobie swoja walsna liste na potrzeby testow,\n",
    "    #jezli bedziemy chcieli pakowac wszystko do jednej to trzeba przyjac jedna zmienna \n",
    "    for element in data:\n",
    "#         if str(max_value) == 'no max':\n",
    "#             max_value = 2147483647\n",
    "        if element[2] == user_value:\n",
    "            add_to_all_found_test = True\n",
    "            for element2 in all_found_test:\n",
    "                for key, value in element2.items():\n",
    "                    klucz = key\n",
    "                    wartosc = value\n",
    "                if klucz == element[3] and wartosc == element[5] :\n",
    "                    add_to_all_found_test = False\n",
    "                    break\n",
    "            if add_to_all_found_test:\n",
    "                all_found_test.append({element[3]: element[5]})\n",
    "    return all_found_test "
   ]
  }
 ],
 "metadata": {
  "kernelspec": {
   "display_name": "Python 3",
   "language": "python",
   "name": "python3"
  },
  "language_info": {
   "codemirror_mode": {
    "name": "ipython",
    "version": 3
   },
   "file_extension": ".py",
   "mimetype": "text/x-python",
   "name": "python",
   "nbconvert_exporter": "python",
   "pygments_lexer": "ipython3",
   "version": "3.7.4"
  }
 },
 "nbformat": 4,
 "nbformat_minor": 2
}
