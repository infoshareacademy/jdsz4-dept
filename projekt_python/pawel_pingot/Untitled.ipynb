{
 "cells": [
  {
   "cell_type": "code",
   "execution_count": 1,
   "metadata": {},
   "outputs": [
    {
     "name": "stdout",
     "output_type": "stream",
     "text": [
      "     MIN  YEXP\n",
      "0    110    10\n",
      "1     12     5\n",
      "2    111     2\n",
      "3   1000     1\n",
      "4  24242    10\n",
      "     MIN  YEXP\n",
      "3   1000     1\n",
      "4  24242    10\n",
      "100 1000\n",
      "   MIN  YEXP\n",
      "0  110    10\n"
     ]
    }
   ],
   "source": [
    "import pandas as pd\n",
    "data = {\n",
    "    \"MIN\": [110, 12, 111, 1000, 24242],\n",
    "    \"YEXP\": [10, 5, 2, 1, 10]\n",
    "}\n",
    "df = pd.DataFrame(data)\n",
    "print(df)\n",
    "user_income = 120\n",
    "partial_df = df[df[\"MIN\"] > 120]\n",
    "print(partial_df)\n",
    "user_years = 10\n",
    "final_df = partial_df[partial_df[\"YEXP\"] == 10]\n",
    "# print(final_df)\n",
    "def get_income_limits(user_income):\n",
    "    limits = [\n",
    "        (10, 20),\n",
    "        (20, 100),\n",
    "        (100, 1000)\n",
    "    ]\n",
    "    for min_val, max_val in limits:\n",
    "        if min_val < user_income <= max_val:\n",
    "            return min_val, max_val\n",
    "user_income = 120\n",
    "user_years = 10\n",
    "income_min_limit, income_max_limit = get_income_limits(user_income)\n",
    "print(income_min_limit, income_max_limit)\n",
    "filtr_1 = (df[\"MIN\"] > income_min_limit) & (df[\"MIN\"] < income_max_limit)\n",
    "filtr_2 = df[\"YEXP\"] == user_years\n",
    "result_df = df[filtr_1 & filtr_2]\n",
    "print(result_df)"
   ]
  },
  {
   "cell_type": "code",
   "execution_count": null,
   "metadata": {},
   "outputs": [],
   "source": [
    "def get_income_limits(user_monthlyIncome):\n",
    "    limits = [\n",
    "        (1000, 3000),\n",
    "        (3000, 5000),\n",
    "        (5000, 7000),\n",
    "        (7000, 9000),\n",
    "        (9000, 11000),\n",
    "        (11000, 13000),\n",
    "        (13000, 15000),\n",
    "        (15000, 17000),\n",
    "        (17000,20000)\n",
    "    ]\n",
    "    for min_val, max_val in limits:\n",
    "        if min_val < user_monthlyIncome <= max_val:\n",
    "            return min_val, max_val\n",
    "user_monthlyIncome = int(input('Jakie są Twoje wymarzone zarobki?:'))\n",
    "monthlyincome_min_limit, monthlyincome_max_limit = get_income_limits(user_monthlyIncome)\n",
    "print(monthlyincome_min_limit, monthlyincome_max_limit)\n",
    "filtr_1 = (total_base['MonthlyIncome'] > monthlyincome_min_limit) & (total_base['MonthlyIncome'] < monthlyincome_max_limit)\n",
    "df_1_filtr = total_base[filtr_1]\n",
    "print(df_1_filtr)"
   ]
  }
 ],
 "metadata": {
  "kernelspec": {
   "display_name": "Python 3",
   "language": "python",
   "name": "python3"
  },
  "language_info": {
   "codemirror_mode": {
    "name": "ipython",
    "version": 3
   },
   "file_extension": ".py",
   "mimetype": "text/x-python",
   "name": "python",
   "nbconvert_exporter": "python",
   "pygments_lexer": "ipython3",
   "version": "3.7.4"
  }
 },
 "nbformat": 4,
 "nbformat_minor": 2
}
