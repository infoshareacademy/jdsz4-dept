{
 "cells": [
  {
   "cell_type": "code",
   "execution_count": 1,
   "metadata": {},
   "outputs": [
    {
     "name": "stdout",
     "output_type": "stream",
     "text": [
      "      MonthlyIncome EducationField  Education  TotalWorkingYears  \\\n",
      "0              5993  Life Sciences          2                  8   \n",
      "1              5130  Life Sciences          1                 10   \n",
      "2              2090          Other          2                  7   \n",
      "3              2909  Life Sciences          4                  8   \n",
      "4              3468        Medical          1                  6   \n",
      "...             ...            ...        ...                ...   \n",
      "1465           2571        Medical          2                 17   \n",
      "1466           9991        Medical          1                  9   \n",
      "1467           6142  Life Sciences          3                  6   \n",
      "1468           5390        Medical          3                 17   \n",
      "1469           4404        Medical          3                  6   \n",
      "\n",
      "                  Department                    JobRole  \n",
      "0                      Sales            Sales Executive  \n",
      "1     Research & Development         Research Scientist  \n",
      "2     Research & Development      Laboratory Technician  \n",
      "3     Research & Development         Research Scientist  \n",
      "4     Research & Development      Laboratory Technician  \n",
      "...                      ...                        ...  \n",
      "1465  Research & Development      Laboratory Technician  \n",
      "1466  Research & Development  Healthcare Representative  \n",
      "1467  Research & Development     Manufacturing Director  \n",
      "1468                   Sales            Sales Executive  \n",
      "1469  Research & Development      Laboratory Technician  \n",
      "\n",
      "[1470 rows x 6 columns]\n"
     ]
    }
   ],
   "source": [
    "import pandas as pd\n",
    "data_frame = pd.read_csv(\"/home/pawcio/Desktop/Projekty/tabele_zawody/WA_Fn-UseC_-HR-Employee-Attrition.csv\")\n",
    "total_base = (data_frame[['MonthlyIncome', 'EducationField', 'Education', 'TotalWorkingYears', 'Department', 'JobRole']])\n",
    "print(total_base)"
   ]
  },
  {
   "cell_type": "code",
   "execution_count": 26,
   "metadata": {},
   "outputs": [
    {
     "name": "stdout",
     "output_type": "stream",
     "text": [
      "Jakie są Twoje wymarzone zarobki?: 20000\n",
      "15000 20000\n",
      "Jaki jest Twój staż pracy? - podaj w liczbach całkowitych: 25\n",
      "Jaka jest Twoja edukacja? - podaj z zakresu: Life Sciences, Marketing, Technical Degree, Human Resources, Medical czy OtherMedical\n",
      "Jaki jest Twój poziom wykształcenia? - podaj liczbę z zakresu: 1: podstawowe; 2: średnie; 3: inżynier/licencjat; 4: magister; 5: doktor \n",
      "3\n",
      "\n",
      "\n",
      "Oto propozycje stanowisk dla Ciebie:\n",
      "['Manager', 'Research Director']\n"
     ]
    }
   ],
   "source": [
    "def get_income_limits(user_monthlyIncome):\n",
    "    limits = [\n",
    "        (1000, 3000),\n",
    "        (3000, 5000),\n",
    "        (5000, 7000),\n",
    "        (7000, 9000),\n",
    "        (9000, 11000),\n",
    "        (11000, 13000),\n",
    "        (13000, 15000),\n",
    "        (15000,20000)\n",
    "    ]\n",
    "    for min_val, max_val in limits:\n",
    "        if min_val < user_monthlyIncome <= max_val:\n",
    "            return min_val, max_val\n",
    "user_monthlyIncome = int(input('Jakie są Twoje wymarzone zarobki?: '))\n",
    "monthlyincome_min_limit, monthlyincome_max_limit = get_income_limits(user_monthlyIncome)\n",
    "print(monthlyincome_min_limit, monthlyincome_max_limit)\n",
    "filtr_1 = (total_base['MonthlyIncome'] > monthlyincome_min_limit) & (total_base['MonthlyIncome'] < monthlyincome_max_limit)\n",
    "df_1_filtr = total_base[filtr_1]\n",
    "\n",
    "def get_years_limits(user_totalworkingyears):\n",
    "    limits = [\n",
    "        (0, 2),\n",
    "        (0, 3),\n",
    "        (0, 4),\n",
    "        (0, 6),\n",
    "        (0, 11),\n",
    "        (0, 16),\n",
    "        (0, 21),\n",
    "        (0, 31),\n",
    "        (0, 41)   \n",
    "    ]\n",
    "    for min_value, max_value in limits:\n",
    "        if min_value < user_totalworkingyears <= max_value:\n",
    "            return min_value, max_value\n",
    "\n",
    "user_totalworkingyears = int(input('Jaki jest Twój staż pracy? - podaj w liczbach całkowitych: '))\n",
    "totalyears_min_limit, totalyears_max_limit = get_years_limits(user_totalworkingyears)\n",
    "#print(totalyears_min_limit, totalyears_max_limit)\n",
    "filtr_2 = (df_1_filtr['TotalWorkingYears'] > totalyears_min_limit) & (df_1_filtr['TotalWorkingYears'] < totalyears_max_limit)\n",
    "df_2_filtr = df_1_filtr[filtr_2]\n",
    "#print(df_2_filtr)\n",
    "\n",
    "user_educationfield = input(\"Jaka jest Twoja edukacja? - podaj z zakresu: Life Sciences, Marketing, Technical Degree, Human Resources, Medical czy Other\")\n",
    "filtr_3 = df_2_filtr['EducationField'] == str(user_educationfield)\n",
    "df_3_filtr = df_2_filtr[filtr_3]\n",
    "#print((df_3_filtr))\n",
    "\n",
    "user_education = int(input(\"Jaki jest Twój poziom wykształcenia? - podaj liczbę z zakresu: 1: podstawowe; 2: średnie; 3: inżynier/licencjat; 4: magister; 5: doktor \\n\"))\n",
    "filtr_4 = df_3_filtr['Education'] == user_education\n",
    "df_4_filtr = df_3_filtr[filtr_4]\n",
    "print('\\n')\n",
    "print('Oto propozycje stanowisk dla Ciebie:')\n",
    "#print(df_4_filtr)\n",
    "print(list(df_4_filtr['JobRole'].unique()))"
   ]
  },
  {
   "cell_type": "code",
   "execution_count": null,
   "metadata": {},
   "outputs": [],
   "source": []
  }
 ],
 "metadata": {
  "kernelspec": {
   "display_name": "Python 3",
   "language": "python",
   "name": "python3"
  },
  "language_info": {
   "codemirror_mode": {
    "name": "ipython",
    "version": 3
   },
   "file_extension": ".py",
   "mimetype": "text/x-python",
   "name": "python",
   "nbconvert_exporter": "python",
   "pygments_lexer": "ipython3",
   "version": "3.7.4"
  }
 },
 "nbformat": 4,
 "nbformat_minor": 2
}
