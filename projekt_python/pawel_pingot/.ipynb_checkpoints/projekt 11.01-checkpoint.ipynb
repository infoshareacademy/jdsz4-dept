{
 "cells": [
  {
   "cell_type": "code",
   "execution_count": 1,
   "metadata": {},
   "outputs": [],
   "source": [
    "import pandas as pd"
   ]
  },
  {
   "cell_type": "code",
   "execution_count": 2,
   "metadata": {},
   "outputs": [],
   "source": [
    "data_frame = pd.read_csv(\"/home/pawcio/Desktop/Projekty/tabele_zawody/WA_Fn-UseC_-HR-Employee-Attrition.csv\")"
   ]
  },
  {
   "cell_type": "code",
   "execution_count": 3,
   "metadata": {},
   "outputs": [
    {
     "data": {
      "text/html": [
       "<div>\n",
       "<style scoped>\n",
       "    .dataframe tbody tr th:only-of-type {\n",
       "        vertical-align: middle;\n",
       "    }\n",
       "\n",
       "    .dataframe tbody tr th {\n",
       "        vertical-align: top;\n",
       "    }\n",
       "\n",
       "    .dataframe thead th {\n",
       "        text-align: right;\n",
       "    }\n",
       "</style>\n",
       "<table border=\"1\" class=\"dataframe\">\n",
       "  <thead>\n",
       "    <tr style=\"text-align: right;\">\n",
       "      <th></th>\n",
       "      <th>Age</th>\n",
       "      <th>Attrition</th>\n",
       "      <th>BusinessTravel</th>\n",
       "      <th>DailyRate</th>\n",
       "      <th>Department</th>\n",
       "      <th>DistanceFromHome</th>\n",
       "      <th>Education</th>\n",
       "      <th>EducationField</th>\n",
       "      <th>EmployeeCount</th>\n",
       "      <th>EmployeeNumber</th>\n",
       "      <th>...</th>\n",
       "      <th>RelationshipSatisfaction</th>\n",
       "      <th>StandardHours</th>\n",
       "      <th>StockOptionLevel</th>\n",
       "      <th>TotalWorkingYears</th>\n",
       "      <th>TrainingTimesLastYear</th>\n",
       "      <th>WorkLifeBalance</th>\n",
       "      <th>YearsAtCompany</th>\n",
       "      <th>YearsInCurrentRole</th>\n",
       "      <th>YearsSinceLastPromotion</th>\n",
       "      <th>YearsWithCurrManager</th>\n",
       "    </tr>\n",
       "  </thead>\n",
       "  <tbody>\n",
       "    <tr>\n",
       "      <th>0</th>\n",
       "      <td>41</td>\n",
       "      <td>Yes</td>\n",
       "      <td>Travel_Rarely</td>\n",
       "      <td>1102</td>\n",
       "      <td>Sales</td>\n",
       "      <td>1</td>\n",
       "      <td>2</td>\n",
       "      <td>Life Sciences</td>\n",
       "      <td>1</td>\n",
       "      <td>1</td>\n",
       "      <td>...</td>\n",
       "      <td>1</td>\n",
       "      <td>80</td>\n",
       "      <td>0</td>\n",
       "      <td>8</td>\n",
       "      <td>0</td>\n",
       "      <td>1</td>\n",
       "      <td>6</td>\n",
       "      <td>4</td>\n",
       "      <td>0</td>\n",
       "      <td>5</td>\n",
       "    </tr>\n",
       "    <tr>\n",
       "      <th>1</th>\n",
       "      <td>49</td>\n",
       "      <td>No</td>\n",
       "      <td>Travel_Frequently</td>\n",
       "      <td>279</td>\n",
       "      <td>Research &amp; Development</td>\n",
       "      <td>8</td>\n",
       "      <td>1</td>\n",
       "      <td>Life Sciences</td>\n",
       "      <td>1</td>\n",
       "      <td>2</td>\n",
       "      <td>...</td>\n",
       "      <td>4</td>\n",
       "      <td>80</td>\n",
       "      <td>1</td>\n",
       "      <td>10</td>\n",
       "      <td>3</td>\n",
       "      <td>3</td>\n",
       "      <td>10</td>\n",
       "      <td>7</td>\n",
       "      <td>1</td>\n",
       "      <td>7</td>\n",
       "    </tr>\n",
       "    <tr>\n",
       "      <th>2</th>\n",
       "      <td>37</td>\n",
       "      <td>Yes</td>\n",
       "      <td>Travel_Rarely</td>\n",
       "      <td>1373</td>\n",
       "      <td>Research &amp; Development</td>\n",
       "      <td>2</td>\n",
       "      <td>2</td>\n",
       "      <td>Other</td>\n",
       "      <td>1</td>\n",
       "      <td>4</td>\n",
       "      <td>...</td>\n",
       "      <td>2</td>\n",
       "      <td>80</td>\n",
       "      <td>0</td>\n",
       "      <td>7</td>\n",
       "      <td>3</td>\n",
       "      <td>3</td>\n",
       "      <td>0</td>\n",
       "      <td>0</td>\n",
       "      <td>0</td>\n",
       "      <td>0</td>\n",
       "    </tr>\n",
       "    <tr>\n",
       "      <th>3</th>\n",
       "      <td>33</td>\n",
       "      <td>No</td>\n",
       "      <td>Travel_Frequently</td>\n",
       "      <td>1392</td>\n",
       "      <td>Research &amp; Development</td>\n",
       "      <td>3</td>\n",
       "      <td>4</td>\n",
       "      <td>Life Sciences</td>\n",
       "      <td>1</td>\n",
       "      <td>5</td>\n",
       "      <td>...</td>\n",
       "      <td>3</td>\n",
       "      <td>80</td>\n",
       "      <td>0</td>\n",
       "      <td>8</td>\n",
       "      <td>3</td>\n",
       "      <td>3</td>\n",
       "      <td>8</td>\n",
       "      <td>7</td>\n",
       "      <td>3</td>\n",
       "      <td>0</td>\n",
       "    </tr>\n",
       "    <tr>\n",
       "      <th>4</th>\n",
       "      <td>27</td>\n",
       "      <td>No</td>\n",
       "      <td>Travel_Rarely</td>\n",
       "      <td>591</td>\n",
       "      <td>Research &amp; Development</td>\n",
       "      <td>2</td>\n",
       "      <td>1</td>\n",
       "      <td>Medical</td>\n",
       "      <td>1</td>\n",
       "      <td>7</td>\n",
       "      <td>...</td>\n",
       "      <td>4</td>\n",
       "      <td>80</td>\n",
       "      <td>1</td>\n",
       "      <td>6</td>\n",
       "      <td>3</td>\n",
       "      <td>3</td>\n",
       "      <td>2</td>\n",
       "      <td>2</td>\n",
       "      <td>2</td>\n",
       "      <td>2</td>\n",
       "    </tr>\n",
       "  </tbody>\n",
       "</table>\n",
       "<p>5 rows × 35 columns</p>\n",
       "</div>"
      ],
      "text/plain": [
       "   Age Attrition     BusinessTravel  DailyRate              Department  \\\n",
       "0   41       Yes      Travel_Rarely       1102                   Sales   \n",
       "1   49        No  Travel_Frequently        279  Research & Development   \n",
       "2   37       Yes      Travel_Rarely       1373  Research & Development   \n",
       "3   33        No  Travel_Frequently       1392  Research & Development   \n",
       "4   27        No      Travel_Rarely        591  Research & Development   \n",
       "\n",
       "   DistanceFromHome  Education EducationField  EmployeeCount  EmployeeNumber  \\\n",
       "0                 1          2  Life Sciences              1               1   \n",
       "1                 8          1  Life Sciences              1               2   \n",
       "2                 2          2          Other              1               4   \n",
       "3                 3          4  Life Sciences              1               5   \n",
       "4                 2          1        Medical              1               7   \n",
       "\n",
       "   ...  RelationshipSatisfaction StandardHours  StockOptionLevel  \\\n",
       "0  ...                         1            80                 0   \n",
       "1  ...                         4            80                 1   \n",
       "2  ...                         2            80                 0   \n",
       "3  ...                         3            80                 0   \n",
       "4  ...                         4            80                 1   \n",
       "\n",
       "   TotalWorkingYears  TrainingTimesLastYear WorkLifeBalance  YearsAtCompany  \\\n",
       "0                  8                      0               1               6   \n",
       "1                 10                      3               3              10   \n",
       "2                  7                      3               3               0   \n",
       "3                  8                      3               3               8   \n",
       "4                  6                      3               3               2   \n",
       "\n",
       "  YearsInCurrentRole  YearsSinceLastPromotion  YearsWithCurrManager  \n",
       "0                  4                        0                     5  \n",
       "1                  7                        1                     7  \n",
       "2                  0                        0                     0  \n",
       "3                  7                        3                     0  \n",
       "4                  2                        2                     2  \n",
       "\n",
       "[5 rows x 35 columns]"
      ]
     },
     "execution_count": 3,
     "metadata": {},
     "output_type": "execute_result"
    }
   ],
   "source": [
    "data_frame.head()"
   ]
  },
  {
   "cell_type": "code",
   "execution_count": 4,
   "metadata": {},
   "outputs": [
    {
     "name": "stdout",
     "output_type": "stream",
     "text": [
      "      MonthlyIncome EducationField\n",
      "0              5993  Life Sciences\n",
      "1              5130  Life Sciences\n",
      "2              2090          Other\n",
      "3              2909  Life Sciences\n",
      "4              3468        Medical\n",
      "...             ...            ...\n",
      "1465           2571        Medical\n",
      "1466           9991        Medical\n",
      "1467           6142  Life Sciences\n",
      "1468           5390        Medical\n",
      "1469           4404        Medical\n",
      "\n",
      "[1470 rows x 2 columns]\n"
     ]
    }
   ],
   "source": [
    "educationfield = (data_frame[[\"MonthlyIncome\", \"EducationField\"]])\n",
    "print(educationfield)"
   ]
  },
  {
   "cell_type": "code",
   "execution_count": 5,
   "metadata": {},
   "outputs": [
    {
     "name": "stdout",
     "output_type": "stream",
     "text": [
      "<class 'pandas.core.frame.DataFrame'>\n"
     ]
    }
   ],
   "source": [
    "print(type(data_frame))"
   ]
  },
  {
   "cell_type": "code",
   "execution_count": 10,
   "metadata": {},
   "outputs": [
    {
     "name": "stdout",
     "output_type": "stream",
     "text": [
      "[['Monthlyincome', 'EducationField']]\n"
     ]
    }
   ],
   "source": [
    "arr_a = list([[\"Monthlyincome\", \"EducationField\"]])\n",
    "print(arr_a)"
   ]
  },
  {
   "cell_type": "code",
   "execution_count": 14,
   "metadata": {},
   "outputs": [
    {
     "name": "stdout",
     "output_type": "stream",
     "text": [
      "<class 'pandas.core.series.Series'>\n"
     ]
    }
   ],
   "source": [
    "print(type(educationfield['MonthlyIncome']))"
   ]
  },
  {
   "cell_type": "code",
   "execution_count": 26,
   "metadata": {},
   "outputs": [
    {
     "name": "stdout",
     "output_type": "stream",
     "text": [
      "[(2073, 'Human Resources'), (18844, 'Human Resources'), (17328, 'Human Resources'), (6347, 'Human Resources'), (6410, 'Human Resources'), (9950, 'Human Resources'), (19141, 'Human Resources'), (19189, 'Human Resources'), (6389, 'Human Resources'), (2143, 'Human Resources'), (3737, 'Human Resources'), (2277, 'Human Resources'), (2844, 'Human Resources'), (3600, 'Human Resources'), (16799, 'Human Resources'), (6077, 'Human Resources'), (5743, 'Human Resources'), (1555, 'Human Resources'), (6430, 'Human Resources'), (2180, 'Human Resources'), (2592, 'Human Resources'), (2956, 'Human Resources'), (2335, 'Human Resources'), (3886, 'Human Resources'), (2863, 'Human Resources'), (19636, 'Human Resources'), (2187, 'Human Resources'), (5993, 'Life Sciences'), (5130, 'Life Sciences'), (2909, 'Life Sciences'), (3068, 'Life Sciences'), (2693, 'Life Sciences'), (9526, 'Life Sciences'), (4193, 'Life Sciences'), (2911, 'Life Sciences'), (2028, 'Life Sciences'), (9980, 'Life Sciences'), (3298, 'Life Sciences'), (15427, 'Life Sciences'), (3944, 'Life Sciences'), (3407, 'Life Sciences'), (11994, 'Life Sciences'), (1232, 'Life Sciences'), (3919, 'Life Sciences'), (3419, 'Life Sciences'), (5376, 'Life Sciences'), (2341, 'Life Sciences'), (2293, 'Life Sciences'), (8726, 'Life Sciences'), (3022, 'Life Sciences'), (2269, 'Life Sciences'), (5381, 'Life Sciences'), (13458, 'Life Sciences'), (9069, 'Life Sciences'), (5915, 'Life Sciences'), (5993, 'Life Sciences'), (2406, 'Life Sciences'), (7637, 'Life Sciences'), (6499, 'Life Sciences'), (9724, 'Life Sciences'), (5473, 'Life Sciences'), (2703, 'Life Sciences'), (6220, 'Life Sciences'), (3038, 'Life Sciences'), (4424, 'Life Sciences'), (5126, 'Life Sciences'), (10239, 'Life Sciences'), (7260, 'Life Sciences'), (2075, 'Life Sciences'), (4152, 'Life Sciences'), (13503, 'Life Sciences'), (2956, 'Life Sciences'), (2926, 'Life Sciences'), (5163, 'Life Sciences'), (18172, 'Life Sciences'), (6074, 'Life Sciences'), (2774, 'Life Sciences'), (4505, 'Life Sciences'), (7428, 'Life Sciences'), (2835, 'Life Sciences'), (16959, 'Life Sciences'), (2613, 'Life Sciences'), (4963, 'Life Sciences'), (19537, 'Life Sciences'), (6172, 'Life Sciences'), (4559, 'Life Sciences'), (8189, 'Life Sciences'), (2942, 'Life Sciences'), (10650, 'Life Sciences'), (5902, 'Life Sciences'), (8639, 'Life Sciences'), (2632, 'Life Sciences'), (17181, 'Life Sciences'), (2238, 'Life Sciences'), (2348, 'Life Sciences'), (9439, 'Life Sciences'), (19926, 'Life Sciences'), (2451, 'Life Sciences'), (9419, 'Life Sciences'), (8686, 'Life Sciences'), (3038, 'Life Sciences'), (5006, 'Life Sciences'), (4257, 'Life Sciences'), (2500, 'Life Sciences'), (1102, 'Life Sciences'), (2288, 'Life Sciences'), (9547, 'Life Sciences'), (19999, 'Life Sciences'), (5916, 'Life Sciences'), (3564, 'Life Sciences'), (6553, 'Life Sciences'), (6804, 'Life Sciences'), (2328, 'Life Sciences'), (4876, 'Life Sciences'), (8474, 'Life Sciences'), (9981, 'Life Sciences'), (12490, 'Life Sciences'), (13591, 'Life Sciences'), (5914, 'Life Sciences'), (10609, 'Life Sciences'), (2177, 'Life Sciences'), (3212, 'Life Sciences'), (2707, 'Life Sciences'), (19068, 'Life Sciences'), (3931, 'Life Sciences'), (3730, 'Life Sciences'), (3072, 'Life Sciences'), (2911, 'Life Sciences'), (5957, 'Life Sciences'), (6434, 'Life Sciences'), (2340, 'Life Sciences'), (6545, 'Life Sciences'), (4898, 'Life Sciences'), (2723, 'Life Sciences'), (2794, 'Life Sciences'), (5249, 'Life Sciences'), (3485, 'Life Sciences'), (4000, 'Life Sciences'), (3210, 'Life Sciences'), (11849, 'Life Sciences'), (11996, 'Life Sciences'), (6397, 'Life Sciences'), (19144, 'Life Sciences'), (4907, 'Life Sciences'), (4554, 'Life Sciences'), (2115, 'Life Sciences'), (3161, 'Life Sciences'), (5745, 'Life Sciences'), (3310, 'Life Sciences'), (18665, 'Life Sciences'), (1420, 'Life Sciences'), (3688, 'Life Sciences'), (16015, 'Life Sciences'), (5674, 'Life Sciences'), (5484, 'Life Sciences'), (12061, 'Life Sciences'), (5660, 'Life Sciences'), (5210, 'Life Sciences'), (2695, 'Life Sciences'), (11878, 'Life Sciences'), (2455, 'Life Sciences'), (2478, 'Life Sciences'), (4478, 'Life Sciences'), (8943, 'Life Sciences'), (18300, 'Life Sciences'), (5257, 'Life Sciences'), (4869, 'Life Sciences'), (9985, 'Life Sciences'), (11510, 'Life Sciences'), (2904, 'Life Sciences'), (15992, 'Life Sciences'), (4649, 'Life Sciences'), (5296, 'Life Sciences'), (2213, 'Life Sciences'), (2657, 'Life Sciences'), (2716, 'Life Sciences'), (2201, 'Life Sciences'), (6540, 'Life Sciences'), (5253, 'Life Sciences'), (4936, 'Life Sciences'), (2543, 'Life Sciences'), (16659, 'Life Sciences'), (3034, 'Life Sciences'), (2576, 'Life Sciences'), (4197, 'Life Sciences'), (14336, 'Life Sciences'), (4487, 'Life Sciences'), (2218, 'Life Sciences'), (19197, 'Life Sciences'), (13212, 'Life Sciences'), (2654, 'Life Sciences'), (16555, 'Life Sciences'), (4556, 'Life Sciences'), (6091, 'Life Sciences'), (19566, 'Life Sciences'), (1702, 'Life Sciences'), (18041, 'Life Sciences'), (2886, 'Life Sciences'), (2097, 'Life Sciences'), (17046, 'Life Sciences'), (17861, 'Life Sciences'), (4230, 'Life Sciences'), (3780, 'Life Sciences'), (2768, 'Life Sciences'), (10648, 'Life Sciences'), (7632, 'Life Sciences'), (9824, 'Life Sciences'), (16835, 'Life Sciences'), (6230, 'Life Sciences'), (13237, 'Life Sciences'), (3755, 'Life Sciences'), (6582, 'Life Sciences'), (2741, 'Life Sciences'), (11557, 'Life Sciences'), (5337, 'Life Sciences'), (16595, 'Life Sciences'), (6447, 'Life Sciences'), (19502, 'Life Sciences'), (2886, 'Life Sciences'), (2033, 'Life Sciences'), (3622, 'Life Sciences'), (2836, 'Life Sciences'), (4089, 'Life Sciences'), (2619, 'Life Sciences'), (15402, 'Life Sciences'), (5985, 'Life Sciences'), (6322, 'Life Sciences'), (2691, 'Life Sciences'), (4286, 'Life Sciences'), (2659, 'Life Sciences'), (6646, 'Life Sciences'), (7725, 'Life Sciences'), (3348, 'Life Sciences'), (1281, 'Life Sciences'), (4851, 'Life Sciences'), (2720, 'Life Sciences'), (4680, 'Life Sciences'), (4577, 'Life Sciences'), (7625, 'Life Sciences'), (7412, 'Life Sciences'), (11159, 'Life Sciences'), (10475, 'Life Sciences'), (14814, 'Life Sciences'), (8793, 'Life Sciences'), (2216, 'Life Sciences'), (11713, 'Life Sciences'), (7861, 'Life Sciences'), (2642, 'Life Sciences'), (6804, 'Life Sciences'), (2450, 'Life Sciences'), (5093, 'Life Sciences'), (5309, 'Life Sciences'), (5121, 'Life Sciences'), (6397, 'Life Sciences'), (7587, 'Life Sciences'), (4364, 'Life Sciences'), (3280, 'Life Sciences'), (2782, 'Life Sciences'), (5980, 'Life Sciences'), (2572, 'Life Sciences'), (3833, 'Life Sciences'), (6500, 'Life Sciences'), (18430, 'Life Sciences'), (1601, 'Life Sciences'), (2694, 'Life Sciences'), (3149, 'Life Sciences'), (2319, 'Life Sciences'), (2700, 'Life Sciences'), (19246, 'Life Sciences'), (2506, 'Life Sciences'), (6062, 'Life Sciences'), (6162, 'Life Sciences'), (2274, 'Life Sciences'), (4434, 'Life Sciences'), (6288, 'Life Sciences'), (2553, 'Life Sciences'), (17159, 'Life Sciences'), (6201, 'Life Sciences'), (4403, 'Life Sciences'), (3761, 'Life Sciences'), (4775, 'Life Sciences'), (2818, 'Life Sciences'), (2342, 'Life Sciences'), (10685, 'Life Sciences'), (2022, 'Life Sciences'), (2314, 'Life Sciences'), (3162, 'Life Sciences'), (6524, 'Life Sciences'), (5231, 'Life Sciences'), (2356, 'Life Sciences'), (14275, 'Life Sciences'), (5562, 'Life Sciences'), (17924, 'Life Sciences'), (5204, 'Life Sciences'), (2795, 'Life Sciences'), (2559, 'Life Sciences'), (2380, 'Life Sciences'), (4765, 'Life Sciences'), (6586, 'Life Sciences'), (3294, 'Life Sciences'), (4171, 'Life Sciences'), (2778, 'Life Sciences'), (2318, 'Life Sciences'), (2008, 'Life Sciences'), (2329, 'Life Sciences'), (4014, 'Life Sciences'), (2332, 'Life Sciences'), (10325, 'Life Sciences'), (6949, 'Life Sciences'), (10609, 'Life Sciences'), (4447, 'Life Sciences'), (17099, 'Life Sciences'), (7823, 'Life Sciences'), (7880, 'Life Sciences'), (13194, 'Life Sciences'), (17444, 'Life Sciences'), (2404, 'Life Sciences'), (3452, 'Life Sciences'), (3633, 'Life Sciences'), (4163, 'Life Sciences'), (2132, 'Life Sciences'), (13973, 'Life Sciences'), (4148, 'Life Sciences'), (1051, 'Life Sciences'), (11416, 'Life Sciences'), (2451, 'Life Sciences'), (4240, 'Life Sciences'), (10999, 'Life Sciences'), (12742, 'Life Sciences'), (4227, 'Life Sciences'), (2380, 'Life Sciences'), (13726, 'Life Sciences'), (19973, 'Life Sciences'), (6861, 'Life Sciences'), (6347, 'Life Sciences'), (2743, 'Life Sciences'), (2342, 'Life Sciences'), (17650, 'Life Sciences'), (2042, 'Life Sciences'), (2220, 'Life Sciences'), (10686, 'Life Sciences'), (1416, 'Life Sciences'), (4615, 'Life Sciences'), (2461, 'Life Sciences'), (8823, 'Life Sciences'), (4621, 'Life Sciences'), (10976, 'Life Sciences'), (7119, 'Life Sciences'), (2207, 'Life Sciences'), (7756, 'Life Sciences'), (6694, 'Life Sciences'), (4302, 'Life Sciences'), (2979, 'Life Sciences'), (5593, 'Life Sciences'), (10445, 'Life Sciences'), (2514, 'Life Sciences'), (10820, 'Life Sciences'), (12169, 'Life Sciences'), (6782, 'Life Sciences'), (7779, 'Life Sciences'), (2791, 'Life Sciences'), (3201, 'Life Sciences'), (4033, 'Life Sciences'), (3291, 'Life Sciences'), (2703, 'Life Sciences'), (4766, 'Life Sciences'), (2539, 'Life Sciences'), (5714, 'Life Sciences'), (7336, 'Life Sciences'), (13758, 'Life Sciences'), (2515, 'Life Sciences'), (10274, 'Life Sciences'), (2827, 'Life Sciences'), (2552, 'Life Sciences'), (6474, 'Life Sciences'), (3033, 'Life Sciences'), (2936, 'Life Sciences'), (2168, 'Life Sciences'), (2853, 'Life Sciences'), (2290, 'Life Sciences'), (2107, 'Life Sciences'), (4115, 'Life Sciences'), (19081, 'Life Sciences'), (8966, 'Life Sciences'), (2210, 'Life Sciences'), (2741, 'Life Sciences'), (3491, 'Life Sciences'), (4998, 'Life Sciences'), (4950, 'Life Sciences'), (2235, 'Life Sciences'), (10502, 'Life Sciences'), (2011, 'Life Sciences'), (3760, 'Life Sciences'), (17779, 'Life Sciences'), (5171, 'Life Sciences'), (19740, 'Life Sciences'), (2517, 'Life Sciences'), (6623, 'Life Sciences'), (18265, 'Life Sciences'), (16124, 'Life Sciences'), (2994, 'Life Sciences'), (1223, 'Life Sciences'), (1118, 'Life Sciences'), (2875, 'Life Sciences'), (2625, 'Life Sciences'), (19847, 'Life Sciences'), (19190, 'Life Sciences'), (4490, 'Life Sciences'), (3506, 'Life Sciences'), (5410, 'Life Sciences'), (3867, 'Life Sciences'), (2372, 'Life Sciences'), (4883, 'Life Sciences'), (3423, 'Life Sciences'), (6674, 'Life Sciences'), (16880, 'Life Sciences'), (8446, 'Life Sciences'), (4534, 'Life Sciences'), (9852, 'Life Sciences'), (2302, 'Life Sciences'), (2362, 'Life Sciences'), (17861, 'Life Sciences'), (19717, 'Life Sciences'), (3544, 'Life Sciences'), (8500, 'Life Sciences'), (4661, 'Life Sciences'), (4249, 'Life Sciences'), (14026, 'Life Sciences'), (6893, 'Life Sciences'), (2387, 'Life Sciences'), (7898, 'Life Sciences'), (1611, 'Life Sciences'), (5071, 'Life Sciences'), (13402, 'Life Sciences'), (2785, 'Life Sciences'), (2610, 'Life Sciences'), (4724, 'Life Sciences'), (6120, 'Life Sciences'), (5467, 'Life Sciences'), (2996, 'Life Sciences'), (9998, 'Life Sciences'), (10920, 'Life Sciences'), (6232, 'Life Sciences'), (2394, 'Life Sciences'), (9362, 'Life Sciences'), (4284, 'Life Sciences'), (1359, 'Life Sciences'), (16422, 'Life Sciences'), (1261, 'Life Sciences'), (2099, 'Life Sciences'), (5810, 'Life Sciences'), (4400, 'Life Sciences'), (2066, 'Life Sciences'), (3294, 'Life Sciences'), (10793, 'Life Sciences'), (3646, 'Life Sciences'), (7446, 'Life Sciences'), (3722, 'Life Sciences'), (3162, 'Life Sciences'), (3420, 'Life Sciences'), (5301, 'Life Sciences'), (4900, 'Life Sciences'), (10466, 'Life Sciences'), (2404, 'Life Sciences'), (2033, 'Life Sciences'), (8620, 'Life Sciences'), (2064, 'Life Sciences'), (4035, 'Life Sciences'), (1563, 'Life Sciences'), (4898, 'Life Sciences'), (3180, 'Life Sciences'), (6549, 'Life Sciences'), (6388, 'Life Sciences'), (16328, 'Life Sciences'), (8376, 'Life Sciences'), (16606, 'Life Sciences'), (8606, 'Life Sciences'), (2272, 'Life Sciences'), (2018, 'Life Sciences'), (4084, 'Life Sciences'), (4320, 'Life Sciences'), (10124, 'Life Sciences'), (5207, 'Life Sciences'), (4069, 'Life Sciences'), (2430, 'Life Sciences'), (5878, 'Life Sciences'), (2644, 'Life Sciences'), (6439, 'Life Sciences'), (2451, 'Life Sciences'), (6392, 'Life Sciences'), (9714, 'Life Sciences'), (2074, 'Life Sciences'), (5484, 'Life Sciences'), (2061, 'Life Sciences'), (9924, 'Life Sciences'), (4198, 'Life Sciences'), (6815, 'Life Sciences'), (8853, 'Life Sciences'), (5562, 'Life Sciences'), (3407, 'Life Sciences'), (4639, 'Life Sciences'), (2690, 'Life Sciences'), (17567, 'Life Sciences'), (4663, 'Life Sciences'), (4724, 'Life Sciences'), (3211, 'Life Sciences'), (5208, 'Life Sciences'), (19658, 'Life Sciences'), (10435, 'Life Sciences'), (4148, 'Life Sciences'), (5768, 'Life Sciences'), (7945, 'Life Sciences'), (2166, 'Life Sciences'), (8008, 'Life Sciences'), (5206, 'Life Sciences'), (13269, 'Life Sciences'), (5433, 'Life Sciences'), (2013, 'Life Sciences'), (13966, 'Life Sciences'), (6842, 'Life Sciences'), (17603, 'Life Sciences'), (4735, 'Life Sciences'), (5476, 'Life Sciences'), (15972, 'Life Sciences'), (15379, 'Life Sciences'), (7082, 'Life Sciences'), (2728, 'Life Sciences'), (5368, 'Life Sciences'), (5347, 'Life Sciences'), (3195, 'Life Sciences'), (1393, 'Life Sciences'), (2929, 'Life Sciences'), (2275, 'Life Sciences'), (7879, 'Life Sciences'), (4502, 'Life Sciences'), (10748, 'Life Sciences'), (12936, 'Life Sciences'), (3433, 'Life Sciences'), (3477, 'Life Sciences'), (6516, 'Life Sciences'), (5562, 'Life Sciences'), (6883, 'Life Sciences'), (2862, 'Life Sciences'), (10368, 'Life Sciences'), (6735, 'Life Sciences'), (6472, 'Life Sciences'), (9610, 'Life Sciences'), (9756, 'Life Sciences'), (6294, 'Life Sciences'), (8564, 'Life Sciences'), (5294, 'Life Sciences'), (2289, 'Life Sciences'), (4001, 'Life Sciences'), (3539, 'Life Sciences'), (6029, 'Life Sciences'), (8321, 'Life Sciences'), (5813, 'Life Sciences'), (3143, 'Life Sciences'), (2044, 'Life Sciences'), (7991, 'Life Sciences'), (3377, 'Life Sciences'), (5346, 'Life Sciences'), (4127, 'Life Sciences'), (2438, 'Life Sciences'), (6870, 'Life Sciences'), (6513, 'Life Sciences'), (10333, 'Life Sciences'), (4448, 'Life Sciences'), (15787, 'Life Sciences'), (5154, 'Life Sciences'), (5675, 'Life Sciences'), (2379, 'Life Sciences'), (2105, 'Life Sciences'), (8578, 'Life Sciences'), (2706, 'Life Sciences'), (6384, 'Life Sciences'), (3968, 'Life Sciences'), (19665, 'Life Sciences'), (2439, 'Life Sciences'), (7314, 'Life Sciences'), (4774, 'Life Sciences'), (2472, 'Life Sciences'), (4197, 'Life Sciences'), (9713, 'Life Sciences'), (2062, 'Life Sciences'), (5906, 'Life Sciences'), (16823, 'Life Sciences'), (2933, 'Life Sciences'), (5033, 'Life Sciences'), (2587, 'Life Sciences'), (6834, 'Life Sciences'), (5736, 'Life Sciences'), (17875, 'Life Sciences'), (2432, 'Life Sciences'), (4771, 'Life Sciences'), (19161, 'Life Sciences'), (2810, 'Life Sciences'), (5373, 'Life Sciences'), (5003, 'Life Sciences'), (2858, 'Life Sciences'), (5204, 'Life Sciences'), (9679, 'Life Sciences'), (10448, 'Life Sciences'), (2897, 'Life Sciences'), (5968, 'Life Sciences'), (7510, 'Life Sciences'), (4332, 'Life Sciences'), (4617, 'Life Sciences'), (4440, 'Life Sciences'), (3067, 'Life Sciences'), (5321, 'Life Sciences'), (5410, 'Life Sciences'), (2782, 'Life Sciences'), (3375, 'Life Sciences'), (2837, 'Life Sciences'), (2406, 'Life Sciences'), (4108, 'Life Sciences'), (13744, 'Life Sciences'), (3482, 'Life Sciences'), (19431, 'Life Sciences'), (5131, 'Life Sciences'), (6306, 'Life Sciences'), (18880, 'Life Sciences'), (13570, 'Life Sciences'), (8938, 'Life Sciences'), (8837, 'Life Sciences'), (5343, 'Life Sciences'), (6728, 'Life Sciences'), (4850, 'Life Sciences'), (2809, 'Life Sciences'), (5689, 'Life Sciences'), (2977, 'Life Sciences'), (6142, 'Life Sciences'), (6825, 'Marketing'), (18947, 'Marketing'), (2683, 'Marketing'), (2014, 'Marketing'), (4568, 'Marketing'), (5772, 'Marketing'), (5454, 'Marketing'), (4157, 'Marketing'), (4312, 'Marketing'), (5441, 'Marketing'), (5744, 'Marketing'), (6146, 'Marketing'), (1675, 'Marketing'), (9208, 'Marketing'), (7295, 'Marketing'), (2306, 'Marketing'), (8998, 'Marketing'), (10855, 'Marketing'), (2231, 'Marketing'), (10453, 'Marketing'), (3140, 'Marketing'), (7639, 'Marketing'), (6696, 'Marketing'), (5940, 'Marketing'), (2793, 'Marketing'), (8789, 'Marketing'), (16064, 'Marketing'), (4465, 'Marketing'), (6931, 'Marketing'), (2789, 'Marketing'), (5828, 'Marketing'), (13525, 'Marketing'), (8020, 'Marketing'), (7547, 'Marketing'), (4682, 'Marketing'), (6349, 'Marketing'), (6118, 'Marketing'), (6214, 'Marketing'), (8268, 'Marketing'), (2851, 'Marketing'), (9355, 'Marketing'), (6380, 'Marketing'), (5304, 'Marketing'), (4260, 'Marketing'), (5715, 'Marketing'), (6538, 'Marketing'), (8392, 'Marketing'), (2351, 'Marketing'), (14118, 'Marketing'), (10266, 'Marketing'), (9071, 'Marketing'), (2983, 'Marketing'), (4051, 'Marketing'), (4717, 'Marketing'), (1878, 'Marketing'), (6272, 'Marketing'), (9602, 'Marketing'), (3041, 'Marketing'), (7104, 'Marketing'), (4028, 'Marketing'), (8120, 'Marketing'), (5396, 'Marketing'), (4960, 'Marketing'), (5405, 'Marketing'), (3875, 'Marketing'), (5304, 'Marketing'), (2297, 'Marketing'), (16856, 'Marketing'), (4342, 'Marketing'), (5324, 'Marketing'), (7654, 'Marketing'), (4779, 'Marketing'), (16307, 'Marketing'), (10934, 'Marketing'), (10761, 'Marketing'), (6334, 'Marketing'), (4256, 'Marketing'), (2899, 'Marketing'), (11836, 'Marketing'), (4537, 'Marketing'), (6932, 'Marketing'), (2413, 'Marketing'), (9705, 'Marketing'), (18303, 'Marketing'), (19845, 'Marketing'), (9725, 'Marketing'), (7525, 'Marketing'), (8396, 'Marketing'), (2323, 'Marketing'), (8740, 'Marketing'), (17465, 'Marketing'), (7351, 'Marketing'), (4968, 'Marketing'), (8224, 'Marketing'), (5155, 'Marketing'), (6578, 'Marketing'), (5346, 'Marketing'), (17048, 'Marketing'), (2678, 'Marketing'), (5220, 'Marketing'), (10377, 'Marketing'), (18213, 'Marketing'), (8380, 'Marketing'), (18824, 'Marketing'), (18789, 'Marketing'), (4538, 'Marketing'), (10231, 'Marketing'), (9094, 'Marketing'), (4103, 'Marketing'), (4639, 'Marketing'), (13695, 'Marketing'), (4614, 'Marketing'), (10596, 'Marketing'), (4078, 'Marketing'), (5769, 'Marketing'), (9278, 'Marketing'), (4779, 'Marketing'), (5647, 'Marketing'), (9204, 'Marketing'), (10096, 'Marketing'), (5486, 'Marketing'), (4768, 'Marketing'), (19586, 'Marketing'), (19331, 'Marketing'), (4385, 'Marketing'), (9241, 'Marketing'), (4978, 'Marketing'), (6134, 'Marketing'), (2760, 'Marketing'), (7140, 'Marketing'), (5147, 'Marketing'), (4507, 'Marketing'), (8161, 'Marketing'), (2679, 'Marketing'), (5468, 'Marketing'), (4189, 'Marketing'), (10447, 'Marketing'), (9637, 'Marketing'), (5405, 'Marketing'), (4648, 'Marketing'), (9907, 'Marketing'), (5507, 'Marketing'), (4393, 'Marketing'), (5487, 'Marketing'), (9854, 'Marketing'), (5380, 'Marketing'), (5087, 'Marketing'), (9888, 'Marketing'), (4105, 'Marketing'), (5617, 'Marketing'), (13341, 'Marketing'), (5677, 'Marketing'), (10422, 'Marketing'), (1790, 'Marketing'), (6712, 'Marketing'), (5406, 'Marketing'), (6652, 'Marketing'), (10854, 'Marketing'), (12031, 'Marketing'), (3468, 'Medical'), (2670, 'Medical'), (5237, 'Medical'), (2426, 'Medical'), (2661, 'Medical'), (2935, 'Medical'), (2960, 'Medical'), (10248, 'Medical'), (2496, 'Medical'), (2206, 'Medical'), (2293, 'Medical'), (2645, 'Medical'), (4011, 'Medical'), (9884, 'Medical'), (4014, 'Medical'), (6162, 'Medical'), (18740, 'Medical'), (14756, 'Medical'), (2194, 'Medical'), (3388, 'Medical'), (2501, 'Medical'), (13664, 'Medical'), (5021, 'Medical'), (2859, 'Medical'), (5329, 'Medical'), (4325, 'Medical'), (9619, 'Medical'), (5209, 'Medical'), (10673, 'Medical'), (5010, 'Medical'), (4221, 'Medical'), (13872, 'Medical'), (2042, 'Medical'), (2889, 'Medical'), (2871, 'Medical'), (7484, 'Medical'), (11631, 'Medical'), (10312, 'Medical'), (6567, 'Medical'), (4739, 'Medical'), (4941, 'Medical'), (4200, 'Medical'), (3452, 'Medical'), (4668, 'Medical'), (2720, 'Medical'), (1483, 'Medical'), (5605, 'Medical'), (6132, 'Medical'), (3346, 'Medical'), (2323, 'Medical'), (2024, 'Medical'), (2713, 'Medical'), (2566, 'Medical'), (2088, 'Medical'), (3072, 'Medical'), (3929, 'Medical'), (2311, 'Medical'), (3690, 'Medical'), (4450, 'Medical'), (2756, 'Medical'), (19033, 'Medical'), (18722, 'Medical'), (13734, 'Medical'), (2279, 'Medical'), (2089, 'Medical'), (16792, 'Medical'), (4425, 'Medical'), (5265, 'Medical'), (3815, 'Medical'), (2741, 'Medical'), (6673, 'Medical'), (2153, 'Medical'), (9396, 'Medical'), (10400, 'Medical'), (8865, 'Medical'), (2622, 'Medical'), (4345, 'Medical'), (7918, 'Medical'), (2389, 'Medical'), (2267, 'Medical'), (19517, 'Medical'), (2436, 'Medical'), (2232, 'Medical'), (13675, 'Medical'), (3920, 'Medical'), (10048, 'Medical'), (2593, 'Medical'), (19436, 'Medical'), (3479, 'Medical'), (6644, 'Medical'), (5582, 'Medical'), (13496, 'Medical'), (19045, 'Medical'), (2070, 'Medical'), (6502, 'Medical'), (3230, 'Medical'), (13603, 'Medical'), (5605, 'Medical'), (17584, 'Medical'), (4741, 'Medical'), (2373, 'Medical'), (2326, 'Medical'), (5482, 'Medical'), (1200, 'Medical'), (5661, 'Medical'), (9613, 'Medical'), (17068, 'Medical'), (4941, 'Medical'), (5055, 'Medical'), (3464, 'Medical'), (5775, 'Medical'), (19272, 'Medical'), (5238, 'Medical'), (7457, 'Medical'), (6347, 'Medical'), (7143, 'Medical'), (6032, 'Medical'), (2976, 'Medical'), (2370, 'Medical'), (12504, 'Medical'), (5974, 'Medical'), (6653, 'Medical'), (9699, 'Medical'), (6755, 'Medical'), (2610, 'Medical'), (3452, 'Medical'), (5258, 'Medical'), (3816, 'Medical'), (2244, 'Medical'), (7596, 'Medical'), (3448, 'Medical'), (19406, 'Medical'), (4306, 'Medical'), (2258, 'Medical'), (4449, 'Medical'), (4558, 'Medical'), (4031, 'Medical'), (7969, 'Medical'), (4810, 'Medical'), (11935, 'Medical'), (2564, 'Medical'), (5070, 'Medical'), (13610, 'Medical'), (3408, 'Medical'), (9980, 'Medical'), (7406, 'Medical'), (16184, 'Medical'), (4306, 'Medical'), (4859, 'Medical'), (10527, 'Medical'), (8834, 'Medical'), (2400, 'Medical'), (9824, 'Medical'), (2725, 'Medical'), (18200, 'Medical'), (2096, 'Medical'), (4233, 'Medical'), (5460, 'Medical'), (2187, 'Medical'), (5679, 'Medical'), (2773, 'Medical'), (2083, 'Medical'), (8381, 'Medical'), (5561, 'Medical'), (10725, 'Medical'), (8847, 'Medical'), (2045, 'Medical'), (1009, 'Medical'), (2819, 'Medical'), (4647, 'Medical'), (3221, 'Medical'), (8621, 'Medical'), (3708, 'Medical'), (13770, 'Medical'), (2759, 'Medical'), (6142, 'Medical'), (2500, 'Medical'), (11103, 'Medical'), (2342, 'Medical'), (6811, 'Medical'), (3057, 'Medical'), (6180, 'Medical'), (3505, 'Medical'), (19859, 'Medical'), (4258, 'Medical'), (4335, 'Medical'), (5485, 'Medical'), (4381, 'Medical'), (4244, 'Medical'), (17639, 'Medical'), (11691, 'Medical'), (4382, 'Medical'), (5094, 'Medical'), (6877, 'Medical'), (5160, 'Medical'), (2366, 'Medical'), (1706, 'Medical'), (5933, 'Medical'), (3424, 'Medical'), (4037, 'Medical'), (2559, 'Medical'), (5175, 'Medical'), (13826, 'Medical'), (4936, 'Medical'), (2515, 'Medical'), (2800, 'Medical'), (2973, 'Medical'), (7642, 'Medical'), (2532, 'Medical'), (4908, 'Medical'), (2044, 'Medical'), (2377, 'Medical'), (2404, 'Medical'), (6244, 'Medical'), (2259, 'Medical'), (4294, 'Medical'), (4721, 'Medical'), (2519, 'Medical'), (5855, 'Medical'), (3617, 'Medical'), (6725, 'Medical'), (4601, 'Medical'), (14852, 'Medical'), (5067, 'Medical'), (2321, 'Medical'), (2270, 'Medical'), (17399, 'Medical'), (19419, 'Medical'), (2684, 'Medical'), (10845, 'Medical'), (4377, 'Medical'), (10388, 'Medical'), (2600, 'Medical'), (2422, 'Medical'), (5472, 'Medical'), (5003, 'Medical'), (4777, 'Medical'), (6385, 'Medical'), (4969, 'Medical'), (13320, 'Medical'), (10880, 'Medical'), (4025, 'Medical'), (2177, 'Medical'), (1052, 'Medical'), (19237, 'Medical'), (2007, 'Medical'), (19627, 'Medical'), (2942, 'Medical'), (8858, 'Medical'), (16756, 'Medical'), (10798, 'Medical'), (3955, 'Medical'), (10482, 'Medical'), (4508, 'Medical'), (2377, 'Medical'), (2313, 'Medical'), (17665, 'Medical'), (2596, 'Medical'), (16885, 'Medical'), (7655, 'Medical'), (19626, 'Medical'), (4272, 'Medical'), (5056, 'Medical'), (1904, 'Medical'), (2610, 'Medical'), (5731, 'Medical'), (13499, 'Medical'), (2258, 'Medical'), (3597, 'Medical'), (4420, 'Medical'), (4422, 'Medical'), (5343, 'Medical'), (3131, 'Medical'), (4477, 'Medical'), (18606, 'Medical'), (4327, 'Medical'), (17856, 'Medical'), (3196, 'Medical'), (4539, 'Medical'), (6272, 'Medical'), (2781, 'Medical'), (3579, 'Medical'), (13191, 'Medical'), (1859, 'Medical'), (6833, 'Medical'), (6812, 'Medical'), (18711, 'Medical'), (13577, 'Medical'), (10512, 'Medical'), (4444, 'Medical'), (2154, 'Medical'), (2372, 'Medical'), (7978, 'Medical'), (2838, 'Medical'), (4695, 'Medical'), (2096, 'Medical'), (6209, 'Medical'), (18061, 'Medical'), (17123, 'Medical'), (3904, 'Medical'), (11916, 'Medical'), (6151, 'Medical'), (19187, 'Medical'), (6125, 'Medical'), (3669, 'Medical'), (10008, 'Medical'), (2534, 'Medical'), (5363, 'Medical'), (6377, 'Medical'), (5429, 'Medical'), (6179, 'Medical'), (13247, 'Medical'), (4081, 'Medical'), (3904, 'Medical'), (3629, 'Medical'), (17328, 'Medical'), (19701, 'Medical'), (14732, 'Medical'), (17169, 'Medical'), (4162, 'Medical'), (2127, 'Medical'), (10851, 'Medical'), (2109, 'Medical'), (13757, 'Medical'), (8463, 'Medical'), (16598, 'Medical'), (2345, 'Medical'), (4373, 'Medical'), (3673, 'Medical'), (17007, 'Medical'), (4599, 'Medical'), (3172, 'Medical'), (10209, 'Medical'), (3838, 'Medical'), (4591, 'Medical'), (2561, 'Medical'), (4789, 'Medical'), (11244, 'Medical'), (16032, 'Medical'), (14411, 'Medical'), (4841, 'Medical'), (4285, 'Medical'), (5473, 'Medical'), (16437, 'Medical'), (2450, 'Medical'), (4855, 'Medical'), (2972, 'Medical'), (4723, 'Medical'), (6142, 'Medical'), (8237, 'Medical'), (2408, 'Medical'), (11245, 'Medical'), (19049, 'Medical'), (2141, 'Medical'), (5769, 'Medical'), (5377, 'Medical'), (4877, 'Medical'), (3117, 'Medical'), (1569, 'Medical'), (3069, 'Medical'), (5042, 'Medical'), (7756, 'Medical'), (10306, 'Medical'), (3936, 'Medical'), (15202, 'Medical'), (5440, 'Medical'), (3517, 'Medical'), (2580, 'Medical'), (5869, 'Medical'), (5295, 'Medical'), (2783, 'Medical'), (4374, 'Medical'), (17426, 'Medical'), (4187, 'Medical'), (5505, 'Medical'), (5470, 'Medical'), (2587, 'Medical'), (2440, 'Medical'), (3989, 'Medical'), (3306, 'Medical'), (7005, 'Medical'), (2655, 'Medical'), (2570, 'Medical'), (3986, 'Medical'), (10883, 'Medical'), (2028, 'Medical'), (9525, 'Medical'), (4930, 'Medical'), (7847, 'Medical'), (4401, 'Medical'), (2974, 'Medical'), (2305, 'Medical'), (3907, 'Medical'), (3295, 'Medical'), (19833, 'Medical'), (2145, 'Medical'), (3445, 'Medical'), (2932, 'Medical'), (2468, 'Medical'), (5811, 'Medical'), (2766, 'Medical'), (19038, 'Medical'), (12965, 'Medical'), (2398, 'Medical'), (19328, 'Medical'), (2342, 'Medical'), (13464, 'Medical'), (5538, 'Medical'), (5762, 'Medical'), (4213, 'Medical'), (9667, 'Medical'), (2148, 'Medical'), (8926, 'Medical'), (16291, 'Medical'), (2705, 'Medical'), (6854, 'Medical'), (3591, 'Medical'), (4684, 'Medical'), (1514, 'Medical'), (3812, 'Medical'), (3540, 'Medical'), (2804, 'Medical'), (19392, 'Medical'), (2856, 'Medical'), (1081, 'Medical'), (4284, 'Medical'), (6500, 'Medical'), (17174, 'Medical'), (13348, 'Medical'), (6583, 'Medical'), (8103, 'Medical'), (3978, 'Medical'), (5399, 'Medical'), (5151, 'Medical'), (2133, 'Medical'), (5561, 'Medical'), (2144, 'Medical'), (3065, 'Medical'), (8628, 'Medical'), (2867, 'Medical'), (6667, 'Medical'), (1129, 'Medical'), (11031, 'Medical'), (4440, 'Medical'), (3748, 'Medical'), (8633, 'Medical'), (2008, 'Medical'), (11957, 'Medical'), (2660, 'Medical'), (5098, 'Medical'), (4878, 'Medical'), (2269, 'Medical'), (13206, 'Medical'), (2436, 'Medical'), (2380, 'Medical'), (7644, 'Medical'), (4787, 'Medical'), (2001, 'Medical'), (3785, 'Medical'), (9936, 'Medical'), (2571, 'Medical'), (9991, 'Medical'), (5390, 'Medical'), (4404, 'Medical'), (2090, 'Other'), (4011, 'Other'), (19094, 'Other'), (6465, 'Other'), (1951, 'Other'), (13245, 'Other'), (4999, 'Other'), (4809, 'Other'), (2368, 'Other'), (12185, 'Other'), (19202, 'Other'), (3697, 'Other'), (2119, 'Other'), (3983, 'Other'), (6781, 'Other'), (10965, 'Other'), (4522, 'Other'), (8412, 'Other'), (2093, 'Other'), (4805, 'Other'), (10932, 'Other'), (6811, 'Other'), (4707, 'Other'), (2127, 'Other'), (3681, 'Other'), (16627, 'Other'), (19513, 'Other'), (9434, 'Other'), (2686, 'Other'), (6274, 'Other'), (16752, 'Other'), (5228, 'Other'), (10221, 'Other'), (4194, 'Other'), (2693, 'Other'), (2799, 'Other'), (7403, 'Other'), (4678, 'Other'), (2121, 'Other'), (7264, 'Other'), (5488, 'Other'), (3743, 'Other'), (3917, 'Other'), (4834, 'Other'), (2821, 'Other'), (4107, 'Other'), (9957, 'Other'), (3660, 'Other'), (4728, 'Other'), (2376, 'Other'), (4541, 'Other'), (2743, 'Other'), (2950, 'Other'), (3578, 'Other'), (7988, 'Other'), (7553, 'Other'), (2996, 'Other'), (3975, 'Other'), (4759, 'Other'), (9715, 'Other'), (2367, 'Other'), (19613, 'Other'), (2814, 'Other'), (3312, 'Other'), (5332, 'Other'), (4066, 'Other'), (5770, 'Other'), (16413, 'Other'), (4581, 'Other'), (3702, 'Other'), (4071, 'Other'), (6962, 'Other'), (3902, 'Other'), (4788, 'Other'), (2544, 'Other'), (5747, 'Other'), (2991, 'Other'), (2647, 'Other'), (3977, 'Other'), (4907, 'Other'), (4025, 'Other'), (2966, 'Other'), (2086, 'Technical Degree'), (19545, 'Technical Degree'), (3441, 'Technical Degree'), (10096, 'Technical Degree'), (2322, 'Technical Degree'), (13549, 'Technical Degree'), (9738, 'Technical Degree'), (2523, 'Technical Degree'), (4317, 'Technical Degree'), (3204, 'Technical Degree'), (4319, 'Technical Degree'), (3058, 'Technical Degree'), (2325, 'Technical Degree'), (6261, 'Technical Degree'), (4298, 'Technical Degree'), (2657, 'Technical Degree'), (2058, 'Technical Degree'), (19232, 'Technical Degree'), (3319, 'Technical Degree'), (10938, 'Technical Degree'), (2176, 'Technical Degree'), (16872, 'Technical Degree'), (5415, 'Technical Degree'), (4485, 'Technical Degree'), (6929, 'Technical Degree'), (4821, 'Technical Degree'), (13964, 'Technical Degree'), (5228, 'Technical Degree'), (8095, 'Technical Degree'), (2696, 'Technical Degree'), (4736, 'Technical Degree'), (2174, 'Technical Degree'), (10496, 'Technical Degree'), (2476, 'Technical Degree'), (3102, 'Technical Degree'), (2285, 'Technical Degree'), (6577, 'Technical Degree'), (4523, 'Technical Degree'), (3202, 'Technical Degree'), (2546, 'Technical Degree'), (2564, 'Technical Degree'), (3894, 'Technical Degree'), (4262, 'Technical Degree'), (2340, 'Technical Degree'), (7491, 'Technical Degree'), (5577, 'Technical Degree'), (2579, 'Technical Degree'), (3447, 'Technical Degree'), (4553, 'Technical Degree'), (6796, 'Technical Degree'), (6632, 'Technical Degree'), (5326, 'Technical Degree'), (12808, 'Technical Degree'), (3580, 'Technical Degree'), (10903, 'Technical Degree'), (10552, 'Technical Degree'), (13582, 'Technical Degree'), (2973, 'Technical Degree'), (2157, 'Technical Degree'), (2479, 'Technical Degree'), (5666, 'Technical Degree'), (5079, 'Technical Degree'), (2811, 'Technical Degree'), (10739, 'Technical Degree'), (11904, 'Technical Degree'), (8722, 'Technical Degree'), (3376, 'Technical Degree'), (10322, 'Technical Degree'), (9582, 'Technical Degree'), (3691, 'Technical Degree'), (2070, 'Technical Degree'), (13120, 'Technical Degree'), (4323, 'Technical Degree'), (19943, 'Technical Degree'), (7379, 'Technical Degree'), (10252, 'Technical Degree'), (6852, 'Technical Degree'), (3692, 'Technical Degree'), (2559, 'Technical Degree'), (2585, 'Technical Degree'), (3339, 'Technical Degree'), (2080, 'Technical Degree'), (4627, 'Technical Degree'), (7094, 'Technical Degree'), (13142, 'Technical Degree'), (2029, 'Technical Degree'), (6687, 'Technical Degree'), (3229, 'Technical Degree'), (3420, 'Technical Degree'), (3500, 'Technical Degree'), (9380, 'Technical Degree'), (2742, 'Technical Degree'), (6651, 'Technical Degree'), (1274, 'Technical Degree'), (2909, 'Technical Degree'), (5765, 'Technical Degree'), (2362, 'Technical Degree'), (7083, 'Technical Degree'), (2308, 'Technical Degree'), (2132, 'Technical Degree'), (2296, 'Technical Degree'), (7441, 'Technical Degree'), (9250, 'Technical Degree'), (10169, 'Technical Degree'), (4087, 'Technical Degree'), (2073, 'Technical Degree'), (5063, 'Technical Degree'), (4876, 'Technical Degree'), (3760, 'Technical Degree'), (3537, 'Technical Degree'), (16704, 'Technical Degree'), (5238, 'Technical Degree'), (4968, 'Technical Degree'), (8346, 'Technical Degree'), (2109, 'Technical Degree'), (2718, 'Technical Degree'), (2437, 'Technical Degree'), (3055, 'Technical Degree'), (13116, 'Technical Degree'), (6799, 'Technical Degree'), (2936, 'Technical Degree'), (13225, 'Technical Degree'), (2662, 'Technical Degree'), (5673, 'Technical Degree'), (2307, 'Technical Degree'), (1091, 'Technical Degree'), (2226, 'Technical Degree'), (5467, 'Technical Degree'), (2367, 'Technical Degree'), (6323, 'Technical Degree'), (2339, 'Technical Degree'), (2439, 'Technical Degree')]\n"
     ]
    }
   ],
   "source": [
    "lista_Monthlyincome = list(educationfield['MonthlyIncome'])\n",
    "lista_EducationField = list(educationfield['EducationField'])\n",
    "lista_Mon_Edu = list(zip(lista_Monthlyincome, lista_EducationField))\n",
    "# print(lista_Mon_Edu)\n",
    "print(sorted(lista_Mon_Edu, key = lambda x: x[1]))"
   ]
  },
  {
   "cell_type": "code",
   "execution_count": null,
   "metadata": {},
   "outputs": [],
   "source": []
  }
 ],
 "metadata": {
  "kernelspec": {
   "display_name": "Python 3",
   "language": "python",
   "name": "python3"
  },
  "language_info": {
   "codemirror_mode": {
    "name": "ipython",
    "version": 3
   },
   "file_extension": ".py",
   "mimetype": "text/x-python",
   "name": "python",
   "nbconvert_exporter": "python",
   "pygments_lexer": "ipython3",
   "version": "3.7.4"
  }
 },
 "nbformat": 4,
 "nbformat_minor": 2
}
