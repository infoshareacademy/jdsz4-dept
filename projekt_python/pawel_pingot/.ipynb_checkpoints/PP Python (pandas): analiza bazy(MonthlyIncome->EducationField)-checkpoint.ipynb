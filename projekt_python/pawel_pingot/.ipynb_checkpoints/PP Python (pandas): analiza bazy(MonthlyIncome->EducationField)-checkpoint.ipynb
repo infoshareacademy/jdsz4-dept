{
 "cells": [
  {
   "cell_type": "code",
   "execution_count": 2,
   "metadata": {},
   "outputs": [],
   "source": [
    "import pandas as pd"
   ]
  },
  {
   "cell_type": "code",
   "execution_count": 3,
   "metadata": {},
   "outputs": [],
   "source": [
    "data_frame = pd.read_csv(\"/home/pawcio/Desktop/Projekty/tabele_zawody/WA_Fn-UseC_-HR-Employee-Attrition.csv\")"
   ]
  },
  {
   "cell_type": "code",
   "execution_count": 4,
   "metadata": {},
   "outputs": [],
   "source": [
    "total_base = (data_frame[['MonthlyIncome', 'EducationField', 'Education', 'TotalWorkingYears', 'Department', 'JobRole']])"
   ]
  },
  {
   "cell_type": "code",
   "execution_count": 5,
   "metadata": {},
   "outputs": [],
   "source": [
    "lista_Monthlyincome = list(total_base['MonthlyIncome'])\n",
    "lista_EducationField = list(total_base['EducationField'])\n",
    "lista_Education = list(total_base['Education'])\n",
    "lista_Department = list(total_base['Department'])\n",
    "lista_TotalWorkingYears = list(total_base['TotalWorkingYears'])\n",
    "lista_JobRole = list(total_base['JobRole'])"
   ]
  },
  {
   "cell_type": "code",
   "execution_count": 6,
   "metadata": {},
   "outputs": [],
   "source": [
    "total_list = sorted(list(zip(lista_Monthlyincome, lista_EducationField, lista_Education, lista_Department, lista_TotalWorkingYears, lista_JobRole)))"
   ]
  },
  {
   "cell_type": "code",
   "execution_count": 7,
   "metadata": {},
   "outputs": [],
   "source": [
    "def educationfield(lista, educationfield):\n",
    "    all_found = []\n",
    "    for element in total_list:\n",
    "        if element[1] == str(educationfield):\n",
    "            add_to_all_found = True\n",
    "            for element2 in all_found:\n",
    "                for key, value in element2.items():\n",
    "                    klucz = key\n",
    "                    wartosc = value\n",
    "                if klucz == element[3] and wartosc == element[5]:\n",
    "                    add_to_all_found = False\n",
    "                    break\n",
    "            if add_to_all_found:\n",
    "                 all_found.append({element[3]: element[5]}) \n",
    "    return all_found"
   ]
  },
  {
   "cell_type": "code",
   "execution_count": 8,
   "metadata": {},
   "outputs": [],
   "source": [
    "def total_working_years(lista, totalworkingyears):\n",
    "    all_found = []\n",
    "    for element in total_list:\n",
    "        if element[4] == int(totalworkingyears):\n",
    "            add_to_all_found = True\n",
    "            for element2 in all_found:\n",
    "                for key, value in element2.items():\n",
    "                    klucz = key\n",
    "                    wartosc = value\n",
    "                if klucz == element[3] and wartosc == element[5]:\n",
    "                    add_to_all_found = False\n",
    "                    break\n",
    "            if add_to_all_found:\n",
    "                 all_found.append({element[3]: element[5]}) \n",
    "    return all_found"
   ]
  },
  {
   "cell_type": "code",
   "execution_count": 9,
   "metadata": {},
   "outputs": [],
   "source": [
    "def edu_monthly(data, user_value):\n",
    "    all_found_test = []\n",
    "    for element in data:\n",
    "        if element[2] == user_value:\n",
    "            add_to_all_found_test = True\n",
    "            for element2 in all_found_test:\n",
    "                for key, value in element2.items():\n",
    "                    klucz = key\n",
    "                    wartosc = value\n",
    "                if klucz == element[3] and wartosc == element[5] :\n",
    "                    add_to_all_found_test = False\n",
    "                    break\n",
    "            if add_to_all_found_test:\n",
    "                all_found_test.append({element[3]: element[5]})\n",
    "    return all_found_test "
   ]
  },
  {
   "cell_type": "code",
   "execution_count": 10,
   "metadata": {},
   "outputs": [],
   "source": [
    "def depart_job_range(data, min_value, max_value):\n",
    "    all_found = []\n",
    "    for element in data:\n",
    "        if str(max_value) == 'no max':\n",
    "            max_value = 2147483647\n",
    "        if element[0] >= int(min_value) and element[0] < int(max_value):\n",
    "            add_to_all_found = True\n",
    "            for element2 in all_found:\n",
    "                for key, value in element2.items():\n",
    "                    klucz = key\n",
    "                    wartosc = value\n",
    "                if klucz == element[3] and wartosc == element[5]:\n",
    "                    add_to_all_found = False\n",
    "                    break\n",
    "            if add_to_all_found:\n",
    "                #print(str(element[1]) + ' ' + element[2])\n",
    "                #printed.update({element[1]: element[2]})\n",
    "                all_found.append({element[3]: element[5]}) \n",
    "    return all_found"
   ]
  },
  {
   "cell_type": "code",
   "execution_count": 14,
   "metadata": {},
   "outputs": [
    {
     "name": "stdout",
     "output_type": "stream",
     "text": [
      "Jakie są Twoje wymarzone zarobki?:8000\n",
      "Oto propozycje stanowisk dla Ciebie:\n",
      "Departament: Research & Development   Stanowisko: Research Scientist\n",
      "Departament: Research & Development   Stanowisko: Manufacturing Director\n",
      "Departament: Sales   Stanowisko: Sales Executive\n",
      "Departament: Human Resources   Stanowisko: Human Resources\n",
      "Departament: Research & Development   Stanowisko: Healthcare Representative\n",
      "Departament: Research & Development   Stanowisko: Laboratory Technician\n",
      "Departament: Sales   Stanowisko: Sales Representative\n"
     ]
    }
   ],
   "source": [
    "value = int(input('Jakie są Twoje wymarzone zarobki?:'))\n",
    "\n",
    "print('Oto propozycje stanowisk dla Ciebie:')\n",
    "if value >= 11001:\n",
    "    wyniki = depart_job_range(total_list, 11000, \"no max\")\n",
    "    for wynik in wyniki:\n",
    "        for key, value in wynik.items():\n",
    "            print('Departament: ' + str(key) + '   Stanowisko: ' + str(value))\n",
    "elif value >=9001 and value <= 11000:\n",
    "    wyniki = depart_job_range(total_list, 9000, 11000)\n",
    "    for wynik in wyniki:\n",
    "        for key, value in wynik.items():\n",
    "            print('Departament: ' + str(key) + '   Stanowisko: ' + str(value))  \n",
    "elif value >= 5001 and value <= 9000:\n",
    "    wyniki = depart_job_range(total_list, 5000, 9000)\n",
    "    for wynik in wyniki:\n",
    "        for key, value in wynik.items():\n",
    "            print('Departament: ' + str(key) + '   Stanowisko: ' + str(value))\n",
    "elif value >= 3001 and value <= 5000:\n",
    "    wyniki = depart_job_range(total_list, 3000, 5000)\n",
    "    for wynik in wyniki:\n",
    "        for key, value in wynik.items():\n",
    "            print('Departament: ' + str(key) + '   Stanowisko: ' + str(value))\n",
    "elif value <= 3000:\n",
    "    wyniki = depart_job_range(total_list, 0, 3000)\n",
    "    for wynik in wyniki:\n",
    "        for key, value in wynik.items():\n",
    "            print('Departament: ' + str(key) + '   Stanowisko: ' + str(value)) \n",
    "else:\n",
    "    print('nic')"
   ]
  },
  {
   "cell_type": "code",
   "execution_count": null,
   "metadata": {},
   "outputs": [],
   "source": []
  },
  {
   "cell_type": "code",
   "execution_count": null,
   "metadata": {},
   "outputs": [],
   "source": []
  },
  {
   "cell_type": "code",
   "execution_count": null,
   "metadata": {},
   "outputs": [],
   "source": []
  }
 ],
 "metadata": {
  "kernelspec": {
   "display_name": "Python 3",
   "language": "python",
   "name": "python3"
  },
  "language_info": {
   "codemirror_mode": {
    "name": "ipython",
    "version": 3
   },
   "file_extension": ".py",
   "mimetype": "text/x-python",
   "name": "python",
   "nbconvert_exporter": "python",
   "pygments_lexer": "ipython3",
   "version": "3.7.4"
  }
 },
 "nbformat": 4,
 "nbformat_minor": 2
}
