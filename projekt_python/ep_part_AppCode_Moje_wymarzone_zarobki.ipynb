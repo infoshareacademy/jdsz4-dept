{
 "cells": [
  {
   "cell_type": "markdown",
   "metadata": {},
   "source": [
    "# Moje wymarzone zarobki a Departament i Stanowisko"
   ]
  },
  {
   "cell_type": "markdown",
   "metadata": {},
   "source": [
    "### Poniższy kod po wpisaniu kwoty miesięcznych zarobków pokazuje możliwości w zakresie departamentu i stanowiska.\n",
    "##### Podstawą dla analizy jest baza danych: IBM HR Analytics Employee Attrition & Performance\n",
    "###### https://www.kaggle.com/pavansubhasht/ibm-hr-analytics-attrition-dataset"
   ]
  },
  {
   "cell_type": "code",
   "execution_count": null,
   "metadata": {},
   "outputs": [],
   "source": [
    "import pandas as pd\n",
    "\n",
    "filename = \"WA_Fn-UseC_-HR-Employee-Attrition.csv\""
   ]
  },
  {
   "cell_type": "code",
   "execution_count": null,
   "metadata": {},
   "outputs": [],
   "source": [
    "file_path = \"/Users/ela/Data Scientist - InfoshareAcademy/Python/WA_Fn-UseC_-HR-Employee-Attrition 3.csv\""
   ]
  },
  {
   "cell_type": "code",
   "execution_count": null,
   "metadata": {},
   "outputs": [],
   "source": [
    "data_frame = pd.read_csv(file_path)"
   ]
  },
  {
   "cell_type": "code",
   "execution_count": null,
   "metadata": {},
   "outputs": [],
   "source": [
    "department_mincome_job = (data_frame[[\"MonthlyIncome\", \"Department\", \"JobRole\"]])\n",
    "\n",
    "list_mincome = list(app_data['MonthlyIncome'])\n",
    "list_department = list(app_data['Department'])\n",
    "list_jobrole = list(app_data['JobRole'])\n",
    "\n",
    "\n",
    "list_mincome_dep_jobr = sorted(list(zip(list_mincome, list_department, list_jobrole)))\n",
    "\n",
    "list_mincome_dep_jobr = sorted(list(zip(list_mincome, list_department, list_jobrole)))\n",
    "\n",
    "def depart_job_range(data, min_value, max_value):\n",
    "    all_found = []\n",
    "    for element in data:\n",
    "        if str(max_value) == 'no max':\n",
    "            max_value = 2147483647\n",
    "        if element[0] >= int(min_value) and element[0] < int(max_value):\n",
    "            add_to_all_found = True\n",
    "            for element2 in all_found:\n",
    "                for key, value in element2.items():\n",
    "                    klucz = key\n",
    "                    wartosc = value\n",
    "                if klucz == element[1] and wartosc == element[2]:\n",
    "                    add_to_all_found = False\n",
    "                    break\n",
    "            if add_to_all_found:\n",
    "                all_found.append({element[1]: element[2]}) \n",
    "    return all_found\n",
    "\n",
    "value = int(input('Jakie są Twoje wymarzone zarobki?:'))\n",
    "print('')\n",
    "print('Oto propozycje stanowisk dla Ciebie:')\n",
    "print('')\n",
    "if value >= 11001:\n",
    "    wyniki = depart_job_range(list_mincome_dep_jobr, 11001, \"no max\")\n",
    "    for wynik in wyniki:\n",
    "        for key, value in wynik.items():\n",
    "            print('Departament: ' + str(key) + '   Stanowisko: ' + str(value))\n",
    "elif value >= 9001 and value <= 11000:\n",
    "    wyniki = depart_job_range(list_mincome_dep_jobr, 9001, 11000)\n",
    "    for wynik in wyniki:\n",
    "        for key, value in wynik.items():\n",
    "            print('Departament: ' + str(key) + '   Stanowisko: ' + str(value))  \n",
    "elif value >= 5001 and value <= 9000:\n",
    "    wyniki = depart_job_range(list_mincome_dep_jobr, 5001, 9000)\n",
    "    for wynik in wyniki:\n",
    "        for key, value in wynik.items():\n",
    "            print('Departament: ' + str(key) + '   Stanowisko: ' + str(value))\n",
    "elif value >= 3001 and value <= 5000:\n",
    "    wyniki = depart_job_range(list_mincome_dep_jobr, 3001, 5000)\n",
    "    for wynik in wyniki:\n",
    "        for key, value in wynik.items():\n",
    "            print('Departament: ' + str(key) + '   Stanowisko: ' + str(value))\n",
    "elif value >= 0 and value <= 3000:\n",
    "    wyniki = depart_job_range(list_mincome_dep_jobr, 0, 3000)\n",
    "    for wynik in wyniki:\n",
    "        for key, value in wynik.items():\n",
    "            print('Departament: ' + str(key) + '   Stanowisko: ' + str(value)) \n",
    "else:\n",
    "    print('nic')"
   ]
  }
 ],
 "metadata": {
  "kernelspec": {
   "display_name": "Python 3",
   "language": "python",
   "name": "python3"
  },
  "language_info": {
   "codemirror_mode": {
    "name": "ipython",
    "version": 3
   },
   "file_extension": ".py",
   "mimetype": "text/x-python",
   "name": "python",
   "nbconvert_exporter": "python",
   "pygments_lexer": "ipython3",
   "version": "3.7.2"
  }
 },
 "nbformat": 4,
 "nbformat_minor": 2
}
