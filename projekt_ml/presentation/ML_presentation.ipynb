{
 "cells": [
  {
   "cell_type": "markdown",
   "metadata": {
    "slideshow": {
     "slide_type": "slide"
    }
   },
   "source": [
    "## Machine Learning Project\n",
    "&nbsp;\n",
    "# _'how expensive health is'_\n",
    "&nbsp;\n",
    "### Project Team: jdsz4-dept"
   ]
  },
  {
   "cell_type": "markdown",
   "metadata": {
    "slideshow": {
     "slide_type": "slide"
    }
   },
   "source": [
    "## Datasets\n",
    "&nbsp;\n",
    "[Data](https://www.kaggle.com/mirichoi0218/insurance)\n",
    "&nbsp;\n",
    "### Content:\n",
    "\n",
    "#### Columns\n",
    "**age:**\n",
    "age of primary beneficiary\n",
    "&nbsp;\n",
    "\n",
    "**sex:**\n",
    "insurance contractor gender, female, male\n",
    "&nbsp;\n",
    "\n",
    "**bmi:**\n",
    "body mass index, providing an understanding of body, weights that are relatively high or low relative to height, objective index of body weight (kg / m ^ 2) using the ratio of height to weight, ideally 18.5 to 24.9\n",
    "&nbsp;\n",
    "\n",
    "**children:**\n",
    "number of children covered by health insurance / Number of dependents\n",
    "&nbsp;\n",
    "\n",
    "**smoker:**\n",
    "smoking\n",
    "&nbsp;\n",
    "\n",
    "**region:**\n",
    "the beneficiary's residential area in the US, northeast, southeast, southwest, northwest\n",
    "&nbsp;\n",
    "\n",
    "**charges:**\n",
    "individual medical costs billed by health insurance"
   ]
  },
  {
   "cell_type": "markdown",
   "metadata": {
    "slideshow": {
     "slide_type": "slide"
    }
   },
   "source": [
    "## Statistical Analysis\n",
    "[Medical Costs_Tableau](https://public.tableau.com/views/Insurance_15824590797350/Medical_Cost?:display_count=y&publish=yes&:origin=viz_share_link)"
   ]
  },
  {
   "cell_type": "markdown",
   "metadata": {
    "slideshow": {
     "slide_type": "slide"
    }
   },
   "source": [
    "## Project Python - ML\n",
    "&nbsp;\n",
    "### models\n",
    "&nbsp;\n",
    "\n",
    "|     | SVM   |      DT     |          RF | KNN     | xgboost |\n",
    "|-----|-------|:-----------:|------------:|---------|---------|\n",
    "| R^2 | -0,82 |     0,73    |        0,83 | 0,78    | 0,86    |\n",
    "| MSE | x     | 40135682.34 | 22755474.29 | 5624.41 | 4524.25 |"
   ]
  },
  {
   "cell_type": "markdown",
   "metadata": {
    "slideshow": {
     "slide_type": "slide"
    }
   },
   "source": [
    "## Aplication\n",
    "&nbsp;\n",
    "### new data sets"
   ]
  }
 ],
 "metadata": {
  "celltoolbar": "Slideshow",
  "kernelspec": {
   "display_name": "Python 3",
   "language": "python",
   "name": "python3"
  },
  "language_info": {
   "codemirror_mode": {
    "name": "ipython",
    "version": 3
   },
   "file_extension": ".py",
   "mimetype": "text/x-python",
   "name": "python",
   "nbconvert_exporter": "python",
   "pygments_lexer": "ipython3",
   "version": "3.7.2"
  }
 },
 "nbformat": 4,
 "nbformat_minor": 2
}
