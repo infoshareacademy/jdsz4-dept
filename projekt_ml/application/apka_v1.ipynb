{
 "cells": [
  {
   "cell_type": "code",
   "execution_count": 1,
   "metadata": {},
   "outputs": [],
   "source": [
    "from joblib import load\n",
    "import numpy as np\n",
    "\n",
    "class Using_model:\n",
    "    # load best model\n",
    "    def get_model():\n",
    "        model = load('best_model.joblib')\n",
    "        return model\n",
    "    # input_values\n",
    "    def input_values(x):\n",
    "        data_array = []\n",
    "        # age\n",
    "        while True:\n",
    "            try:\n",
    "                age = int(input('Enter your age: '))\n",
    "                if 1 <= age <= 120:\n",
    "                    data_array.append(age)\n",
    "                    break\n",
    "            except:\n",
    "                print('Enter age as a number!: ')\n",
    "        # bmi        \n",
    "        while True:\n",
    "            try:\n",
    "                bmi = float(input('Enter your bmi: '))\n",
    "                if 10 <= bmi <= 40:\n",
    "                    data_array.append(bmi)\n",
    "                    break\n",
    "            except:\n",
    "                print('Enter bmi as a number')\n",
    "        # children\n",
    "        while True:\n",
    "            try:\n",
    "                chld = int(input('How many children do you have ?: '))\n",
    "                if 0 <= chld <= 30:\n",
    "                    data_array.append(chld)\n",
    "                    break\n",
    "            except:\n",
    "                print('Enter children amount as a number!')\n",
    "        # are you a smoker?\n",
    "        while True:\n",
    "            smk = input('Are you a smoker (y/n): ')\n",
    "            if smk in ['y', 'Y']:    \n",
    "                data_array.append(1)\n",
    "                break\n",
    "            elif smk in ['n', 'N']:\n",
    "                data_array.append(0)\n",
    "                break\n",
    "        # sex\n",
    "        while True:\n",
    "            sex = input('Are you a male/female (m/f): ')\n",
    "            if sex in ['m', 'M']:\n",
    "                data_array.append(1)\n",
    "                break\n",
    "            elif sex in ['f', 'F']:\n",
    "                data_array.append(0)\n",
    "                break\n",
    "        # region - NE, NW, SE, SW\n",
    "        while True:\n",
    "            print('Select your region.')\n",
    "            print('1. north-east')\n",
    "            print('2. north-west')\n",
    "            print('3. south-east')\n",
    "            print('4. south-west')\n",
    "            reg = input('Your choice: ')\n",
    "            if reg in '1, 2, 3, 4':\n",
    "                if reg == '1':\n",
    "                    data_array.append(1)\n",
    "                    data_array.append(0)\n",
    "                    data_array.append(0)\n",
    "                    data_array.append(0)\n",
    "                    break\n",
    "                elif reg == '2':\n",
    "                    data_array.append(0)\n",
    "                    data_array.append(1)\n",
    "                    data_array.append(0)\n",
    "                    data_array.append(0)\n",
    "                    break\n",
    "                elif reg == '3':\n",
    "                    data_array.append(0)\n",
    "                    data_array.append(0)\n",
    "                    data_array.append(1)\n",
    "                    data_array.append(0)\n",
    "                    break\n",
    "                elif reg == '4':\n",
    "                    data_array.append(0)\n",
    "                    data_array.append(0)\n",
    "                    data_array.append(0)\n",
    "                    data_array.append(1)\n",
    "                    break\n",
    "        complete_output = np.array(data_array)\n",
    "        complete_output = complete_output.reshape(1,-1)\n",
    "        predict_value = x.predict(complete_output)\n",
    "        print ('Estimated cost of insurance: ', (predict_value), '$')"
   ]
  },
  {
   "cell_type": "code",
   "execution_count": null,
   "metadata": {
    "scrolled": true
   },
   "outputs": [
    {
     "name": "stdout",
     "output_type": "stream",
     "text": [
      "[12:19:14] WARNING: src/objective/regression_obj.cu:152: reg:linear is now deprecated in favor of reg:squarederror.\n",
      "Enter your age: 25\n",
      "Enter your bmi: 25\n",
      "How many children do you have ?: 3\n"
     ]
    }
   ],
   "source": [
    "# import xgboost\n",
    "# Appka\n",
    "model = Using_model.get_model()\n",
    "Using_model.input_values(model)"
   ]
  },
  {
   "cell_type": "code",
   "execution_count": null,
   "metadata": {},
   "outputs": [],
   "source": []
  },
  {
   "cell_type": "code",
   "execution_count": null,
   "metadata": {},
   "outputs": [],
   "source": []
  }
 ],
 "metadata": {
  "kernelspec": {
   "display_name": "Python 3",
   "language": "python",
   "name": "python3"
  },
  "language_info": {
   "codemirror_mode": {
    "name": "ipython",
    "version": 3
   },
   "file_extension": ".py",
   "mimetype": "text/x-python",
   "name": "python",
   "nbconvert_exporter": "python",
   "pygments_lexer": "ipython3",
   "version": "3.7.6"
  }
 },
 "nbformat": 4,
 "nbformat_minor": 2
}
