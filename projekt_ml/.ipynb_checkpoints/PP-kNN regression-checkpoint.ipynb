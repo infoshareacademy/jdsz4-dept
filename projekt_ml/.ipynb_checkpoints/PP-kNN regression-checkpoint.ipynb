{
 "cells": [
  {
   "cell_type": "markdown",
   "metadata": {},
   "source": [
    "# Regresja GridSearchCV dla modelu kNN (dla różnych ilości cech(x) i znaleźć najlepsze parametry)\n"
   ]
  },
  {
   "cell_type": "code",
   "execution_count": 1,
   "metadata": {},
   "outputs": [],
   "source": [
    "# Załadowanie pakietów\n",
    "import numpy as np\n",
    "import pandas as pd\n",
    "from sklearn.neighbors import KNeighborsRegressor, RadiusNeighborsRegressor\n",
    "from sklearn.model_selection import GridSearchCV\n",
    "import matplotlib.pyplot as plt\n",
    "from sklearn.metrics import r2_score\n",
    "from sklearn.metrics import accuracy_score\n",
    "from sklearn.metrics import mean_squared_error\n",
    "from sklearn.preprocessing import MinMaxScaler\n",
    "from sklearn.model_selection import train_test_split, cross_val_score"
   ]
  },
  {
   "cell_type": "code",
   "execution_count": 2,
   "metadata": {},
   "outputs": [],
   "source": [
    "df = pd.read_csv('/home/pawcio/Desktop/Projekty/insurance_3.csv')"
   ]
  },
  {
   "cell_type": "code",
   "execution_count": 3,
   "metadata": {},
   "outputs": [
    {
     "name": "stdout",
     "output_type": "stream",
     "text": [
      "<class 'pandas.core.frame.DataFrame'>\n",
      "RangeIndex: 1338 entries, 0 to 1337\n",
      "Data columns (total 7 columns):\n",
      "age         1338 non-null int64\n",
      "sex         1338 non-null int64\n",
      "bmi         1338 non-null float64\n",
      "children    1338 non-null int64\n",
      "smoker      1338 non-null int64\n",
      "region      1338 non-null int64\n",
      "charges     1338 non-null float64\n",
      "dtypes: float64(2), int64(5)\n",
      "memory usage: 73.3 KB\n"
     ]
    }
   ],
   "source": [
    "df.info()"
   ]
  },
  {
   "cell_type": "code",
   "execution_count": 4,
   "metadata": {},
   "outputs": [
    {
     "data": {
      "text/html": [
       "<div>\n",
       "<style scoped>\n",
       "    .dataframe tbody tr th:only-of-type {\n",
       "        vertical-align: middle;\n",
       "    }\n",
       "\n",
       "    .dataframe tbody tr th {\n",
       "        vertical-align: top;\n",
       "    }\n",
       "\n",
       "    .dataframe thead th {\n",
       "        text-align: right;\n",
       "    }\n",
       "</style>\n",
       "<table border=\"1\" class=\"dataframe\">\n",
       "  <thead>\n",
       "    <tr style=\"text-align: right;\">\n",
       "      <th></th>\n",
       "      <th>age</th>\n",
       "      <th>sex</th>\n",
       "      <th>bmi</th>\n",
       "      <th>children</th>\n",
       "      <th>smoker</th>\n",
       "      <th>region</th>\n",
       "      <th>charges</th>\n",
       "    </tr>\n",
       "  </thead>\n",
       "  <tbody>\n",
       "    <tr>\n",
       "      <th>count</th>\n",
       "      <td>1338.000000</td>\n",
       "      <td>1338.000000</td>\n",
       "      <td>1338.000000</td>\n",
       "      <td>1338.000000</td>\n",
       "      <td>1338.000000</td>\n",
       "      <td>1338.000000</td>\n",
       "      <td>1338.000000</td>\n",
       "    </tr>\n",
       "    <tr>\n",
       "      <th>mean</th>\n",
       "      <td>39.207025</td>\n",
       "      <td>0.494768</td>\n",
       "      <td>30.663397</td>\n",
       "      <td>1.094918</td>\n",
       "      <td>0.204783</td>\n",
       "      <td>1.484305</td>\n",
       "      <td>13270.422265</td>\n",
       "    </tr>\n",
       "    <tr>\n",
       "      <th>std</th>\n",
       "      <td>14.049960</td>\n",
       "      <td>0.500160</td>\n",
       "      <td>6.098187</td>\n",
       "      <td>1.205493</td>\n",
       "      <td>0.403694</td>\n",
       "      <td>1.104885</td>\n",
       "      <td>12110.011237</td>\n",
       "    </tr>\n",
       "    <tr>\n",
       "      <th>min</th>\n",
       "      <td>18.000000</td>\n",
       "      <td>0.000000</td>\n",
       "      <td>15.960000</td>\n",
       "      <td>0.000000</td>\n",
       "      <td>0.000000</td>\n",
       "      <td>0.000000</td>\n",
       "      <td>1121.873900</td>\n",
       "    </tr>\n",
       "    <tr>\n",
       "      <th>25%</th>\n",
       "      <td>27.000000</td>\n",
       "      <td>0.000000</td>\n",
       "      <td>26.296250</td>\n",
       "      <td>0.000000</td>\n",
       "      <td>0.000000</td>\n",
       "      <td>1.000000</td>\n",
       "      <td>4740.287150</td>\n",
       "    </tr>\n",
       "    <tr>\n",
       "      <th>50%</th>\n",
       "      <td>39.000000</td>\n",
       "      <td>0.000000</td>\n",
       "      <td>30.400000</td>\n",
       "      <td>1.000000</td>\n",
       "      <td>0.000000</td>\n",
       "      <td>1.000000</td>\n",
       "      <td>9382.033000</td>\n",
       "    </tr>\n",
       "    <tr>\n",
       "      <th>75%</th>\n",
       "      <td>51.000000</td>\n",
       "      <td>1.000000</td>\n",
       "      <td>34.693750</td>\n",
       "      <td>2.000000</td>\n",
       "      <td>0.000000</td>\n",
       "      <td>2.000000</td>\n",
       "      <td>16639.912515</td>\n",
       "    </tr>\n",
       "    <tr>\n",
       "      <th>max</th>\n",
       "      <td>64.000000</td>\n",
       "      <td>1.000000</td>\n",
       "      <td>53.130000</td>\n",
       "      <td>5.000000</td>\n",
       "      <td>1.000000</td>\n",
       "      <td>3.000000</td>\n",
       "      <td>63770.428010</td>\n",
       "    </tr>\n",
       "  </tbody>\n",
       "</table>\n",
       "</div>"
      ],
      "text/plain": [
       "               age          sex          bmi     children       smoker  \\\n",
       "count  1338.000000  1338.000000  1338.000000  1338.000000  1338.000000   \n",
       "mean     39.207025     0.494768    30.663397     1.094918     0.204783   \n",
       "std      14.049960     0.500160     6.098187     1.205493     0.403694   \n",
       "min      18.000000     0.000000    15.960000     0.000000     0.000000   \n",
       "25%      27.000000     0.000000    26.296250     0.000000     0.000000   \n",
       "50%      39.000000     0.000000    30.400000     1.000000     0.000000   \n",
       "75%      51.000000     1.000000    34.693750     2.000000     0.000000   \n",
       "max      64.000000     1.000000    53.130000     5.000000     1.000000   \n",
       "\n",
       "            region       charges  \n",
       "count  1338.000000   1338.000000  \n",
       "mean      1.484305  13270.422265  \n",
       "std       1.104885  12110.011237  \n",
       "min       0.000000   1121.873900  \n",
       "25%       1.000000   4740.287150  \n",
       "50%       1.000000   9382.033000  \n",
       "75%       2.000000  16639.912515  \n",
       "max       3.000000  63770.428010  "
      ]
     },
     "execution_count": 4,
     "metadata": {},
     "output_type": "execute_result"
    }
   ],
   "source": [
    "df.describe()"
   ]
  },
  {
   "cell_type": "code",
   "execution_count": 5,
   "metadata": {},
   "outputs": [
    {
     "data": {
      "text/plain": [
       "Index(['age', 'sex', 'bmi', 'children', 'smoker', 'region', 'charges'], dtype='object')"
      ]
     },
     "execution_count": 5,
     "metadata": {},
     "output_type": "execute_result"
    }
   ],
   "source": [
    "df.columns"
   ]
  },
  {
   "cell_type": "code",
   "execution_count": 6,
   "metadata": {},
   "outputs": [],
   "source": [
    "x0 = (df[['age', 'sex', 'bmi', 'children', 'smoker', 'region']])\n",
    "y = (df['charges'])\n"
   ]
  },
  {
   "cell_type": "code",
   "execution_count": 7,
   "metadata": {},
   "outputs": [],
   "source": [
    "def kNN_function(x, y):\n",
    "    \n",
    "    print('---------------------\\n')\n",
    "    print('kNN regression: \\n')\n",
    "    \n",
    "    # Podział dataset\n",
    "    x_train, x_test, y_train, y_test = train_test_split(x, y, test_size = 0.33, random_state = 42)\n",
    "    \n",
    "    # Przedstawienie liczebności zbiorów\n",
    "    print(' Liczebność zbioru T = ', x_train.count()[0],'\\n','Liczebność zbioru V = ', x_test.count()[0])\n",
    "    print('---------------------\\n')\n",
    "    \n",
    "    # Standaryzacja wartości x\n",
    "    scaler = MinMaxScaler()\n",
    "    scaler.fit(x_train)\n",
    "    norm_x_train = scaler.transform(x_train)\n",
    "    norm_x_test = scaler.transform(x_test)\n",
    "    \n",
    "    # Wytrenowanie modelu\n",
    "    model = KNeighborsRegressor()\n",
    "    model_fit = model.fit(norm_x_train, y_train)\n",
    "    \n",
    "    # Obliczenie wartości y_pred\n",
    "    y_pred = model_fit.predict(norm_x_test)\n",
    "    r2 = r2_score(y_test, y_pred)\n",
    "    mse = mean_squared_error(y_test, y_pred)\n",
    "    \n",
    "    print(' Wartość współczynnika R^2 = ', r2)\n",
    "    print(' Wartość współczynnika mse = ', mse)\n",
    "    print('---------------------\\n')\n",
    "    # Znalezienie najlepszych hiperparametrów\n",
    "\n",
    "    print(' Najlepszsze parametry modelu: \\n')\n",
    "    \n",
    "        \n",
    "    params = {'n_neighbors': range(1,10,1),\n",
    "              'algorithm': ('ball_tree', 'kd_tree'),\n",
    "              'leaf_size': range(1,21, 2),\n",
    "              'p': range(1,3,1)}\n",
    "    \n",
    "    # Najlepsze parametry dla modelu\n",
    "    kNN_regressor_search = GridSearchCV(model, params, cv = 5)\n",
    "    kNN_regressor_search.fit(x_train,y_train)\n",
    "    best_params = kNN_regressor_search.best_params_\n",
    "    print(best_params)\n",
    "    \n",
    "    best_model = \\\n",
    "        KNeighborsRegressor(n_neighbors= best_params['n_neighbors'], \n",
    "                            algorithm = best_params['algorithm'],\n",
    "                            leaf_size=best_params['leaf_size'], \n",
    "                            p=best_params['p'])\n",
    "    best_model.fit(x_train, y_train)\n",
    "    bp_sc = best_model.score(x_test, y_test)\n",
    "    \n",
    "    print('---------------------\\n')\n",
    "    print('Score = ', bp_sc)"
   ]
  },
  {
   "cell_type": "code",
   "execution_count": 8,
   "metadata": {},
   "outputs": [
    {
     "name": "stdout",
     "output_type": "stream",
     "text": [
      "---------------------\n",
      "\n",
      "kNN regression: \n",
      "\n",
      " Liczebność zbioru T =  896 \n",
      " Liczebność zbioru V =  442\n",
      "---------------------\n",
      "\n",
      " Wartość współczynnika R^2 =  0.784134267698671\n",
      " Wartość współczynnika mse =  31633969.463230394\n",
      "---------------------\n",
      "\n",
      " Najlepszsze parametry modelu: \n",
      "\n",
      "{'algorithm': 'ball_tree', 'leaf_size': 1, 'n_neighbors': 8, 'p': 1}\n",
      "---------------------\n",
      "\n",
      "Score =  0.32573747675912224\n"
     ]
    }
   ],
   "source": [
    "# Model dla wszystkich cech ('age', 'sex', 'bmi', 'children', 'smoker', 'region')\n",
    "kNN_function(x0,y)"
   ]
  },
  {
   "cell_type": "code",
   "execution_count": 9,
   "metadata": {},
   "outputs": [],
   "source": [
    "# modele bez jednej cechy\n",
    "x11 = (df[['sex', 'bmi', 'children', 'smoker', 'region']])\n",
    "x12 = (df[['age', 'bmi', 'children', 'smoker', 'region']])\n",
    "x13 = (df[['age', 'sex', 'children', 'smoker', 'region']])\n",
    "x14 = (df[['age', 'sex', 'bmi', 'smoker', 'region']])\n",
    "x15 = (df[['age', 'sex', 'bmi', 'children', 'region']])\n",
    "x16 = (df[['age', 'sex', 'bmi', 'children', 'smoker']])"
   ]
  },
  {
   "cell_type": "code",
   "execution_count": 17,
   "metadata": {},
   "outputs": [
    {
     "name": "stdout",
     "output_type": "stream",
     "text": [
      "---------------------\n",
      "\n",
      "kNN regression: \n",
      "\n",
      " Liczebność zbioru T =  896 \n",
      " Liczebność zbioru V =  442\n",
      "---------------------\n",
      "\n",
      " Wartość współczynnika R^2 =  0.6918733541906055\n",
      " Wartość współczynnika mse =  45154313.28737111\n",
      "---------------------\n",
      "\n",
      " Najlepszsze parametry modelu: \n",
      "\n",
      "{'algorithm': 'kd_tree', 'leaf_size': 3, 'n_neighbors': 3, 'p': 1}\n",
      "---------------------\n",
      "\n",
      "Score =  0.48995191165071017\n"
     ]
    }
   ],
   "source": [
    "# model x11\n",
    "kNN_function(x11,y)"
   ]
  },
  {
   "cell_type": "code",
   "execution_count": 11,
   "metadata": {},
   "outputs": [
    {
     "name": "stdout",
     "output_type": "stream",
     "text": [
      "---------------------\n",
      "\n",
      "kNN regression: \n",
      "\n",
      " Liczebność zbioru T =  896 \n",
      " Liczebność zbioru V =  442\n",
      "---------------------\n",
      "\n",
      " Wartość współczynnika R^2 =  0.8131198344403464\n",
      " Wartość współczynnika mse =  27386289.55866528\n",
      "---------------------\n",
      "\n",
      " Najlepszsze parametry modelu: \n",
      "\n",
      "{'algorithm': 'kd_tree', 'leaf_size': 13, 'n_neighbors': 9, 'p': 1}\n",
      "---------------------\n",
      "\n",
      "Score =  0.3287428968574322\n"
     ]
    }
   ],
   "source": [
    "# model x12\n",
    "kNN_function(x12,y)"
   ]
  },
  {
   "cell_type": "code",
   "execution_count": 12,
   "metadata": {},
   "outputs": [
    {
     "name": "stdout",
     "output_type": "stream",
     "text": [
      "---------------------\n",
      "\n",
      "kNN regression: \n",
      "\n",
      " Liczebność zbioru T =  896 \n",
      " Liczebność zbioru V =  442\n",
      "---------------------\n",
      "\n",
      " Wartość współczynnika R^2 =  0.6734773911496206\n",
      " Wartość współczynnika mse =  47850143.36137701\n",
      "---------------------\n",
      "\n",
      " Najlepszsze parametry modelu: \n",
      "\n",
      "{'algorithm': 'ball_tree', 'leaf_size': 13, 'n_neighbors': 4, 'p': 1}\n",
      "---------------------\n",
      "\n",
      "Score =  0.453537179318685\n"
     ]
    }
   ],
   "source": [
    "# model x13\n",
    "kNN_function(x13,y)"
   ]
  },
  {
   "cell_type": "code",
   "execution_count": 13,
   "metadata": {},
   "outputs": [
    {
     "name": "stdout",
     "output_type": "stream",
     "text": [
      "---------------------\n",
      "\n",
      "kNN regression: \n",
      "\n",
      " Liczebność zbioru T =  896 \n",
      " Liczebność zbioru V =  442\n",
      "---------------------\n",
      "\n",
      " Wartość współczynnika R^2 =  0.7837198159546268\n",
      " Wartość współczynnika mse =  31694705.151453365\n",
      "---------------------\n",
      "\n",
      " Najlepszsze parametry modelu: \n",
      "\n",
      "{'algorithm': 'ball_tree', 'leaf_size': 3, 'n_neighbors': 9, 'p': 1}\n",
      "---------------------\n",
      "\n",
      "Score =  0.34439895334601744\n"
     ]
    }
   ],
   "source": [
    "# model x14\n",
    "kNN_function(x14,y)"
   ]
  },
  {
   "cell_type": "code",
   "execution_count": 14,
   "metadata": {},
   "outputs": [
    {
     "name": "stdout",
     "output_type": "stream",
     "text": [
      "---------------------\n",
      "\n",
      "kNN regression: \n",
      "\n",
      " Liczebność zbioru T =  896 \n",
      " Liczebność zbioru V =  442\n",
      "---------------------\n",
      "\n",
      " Wartość współczynnika R^2 =  0.027054010507461923\n",
      " Wartość współczynnika mse =  142580035.25087497\n",
      "---------------------\n",
      "\n",
      " Najlepszsze parametry modelu: \n",
      "\n",
      "{'algorithm': 'kd_tree', 'leaf_size': 7, 'n_neighbors': 8, 'p': 1}\n",
      "---------------------\n",
      "\n",
      "Score =  0.02442058644132883\n"
     ]
    }
   ],
   "source": [
    "# model x15\n",
    "kNN_function(x15,y)"
   ]
  },
  {
   "cell_type": "code",
   "execution_count": 15,
   "metadata": {},
   "outputs": [
    {
     "name": "stdout",
     "output_type": "stream",
     "text": [
      "---------------------\n",
      "\n",
      "kNN regression: \n",
      "\n",
      " Liczebność zbioru T =  896 \n",
      " Liczebność zbioru V =  442\n",
      "---------------------\n",
      "\n",
      " Wartość współczynnika R^2 =  0.8162839136785389\n",
      " Wartość współczynnika mse =  26922610.65542693\n",
      "---------------------\n",
      "\n",
      " Najlepszsze parametry modelu: \n",
      "\n",
      "{'algorithm': 'kd_tree', 'leaf_size': 3, 'n_neighbors': 8, 'p': 1}\n",
      "---------------------\n",
      "\n",
      "Score =  0.32745152795111343\n"
     ]
    }
   ],
   "source": [
    "# model x16\n",
    "kNN_function(x16,y)"
   ]
  },
  {
   "cell_type": "code",
   "execution_count": 33,
   "metadata": {},
   "outputs": [],
   "source": [
    "# modele bez 2 cech\n",
    "x21 = (df[['age', 'bmi', 'children', 'smoker']])\n",
    "x22 = (df[['sex', 'children', 'smoker', 'region']])\n",
    "x23 = (df[['sex', 'bmi', 'children', 'region']])"
   ]
  },
  {
   "cell_type": "code",
   "execution_count": 20,
   "metadata": {},
   "outputs": [
    {
     "name": "stdout",
     "output_type": "stream",
     "text": [
      "---------------------\n",
      "\n",
      "kNN regression: \n",
      "\n",
      " Liczebność zbioru T =  896 \n",
      " Liczebność zbioru V =  442\n",
      "---------------------\n",
      "\n",
      " Wartość współczynnika R^2 =  0.837316262982016\n",
      " Wartość współczynnika mse =  23840432.26373371\n",
      "---------------------\n",
      "\n",
      " Najlepszsze parametry modelu: \n",
      "\n",
      "{'algorithm': 'ball_tree', 'leaf_size': 1, 'n_neighbors': 9, 'p': 1}\n",
      "---------------------\n",
      "\n",
      "Score =  0.3306002282372206\n"
     ]
    }
   ],
   "source": [
    "# model x21\n",
    "kNN_function(x21,y)"
   ]
  },
  {
   "cell_type": "code",
   "execution_count": 21,
   "metadata": {},
   "outputs": [
    {
     "name": "stdout",
     "output_type": "stream",
     "text": [
      "---------------------\n",
      "\n",
      "kNN regression: \n",
      "\n",
      " Liczebność zbioru T =  896 \n",
      " Liczebność zbioru V =  442\n",
      "---------------------\n",
      "\n",
      " Wartość współczynnika R^2 =  0.5903451998467049\n",
      " Wartość współczynnika mse =  60032721.731050335\n",
      "---------------------\n",
      "\n",
      " Najlepszsze parametry modelu: \n",
      "\n",
      "{'algorithm': 'kd_tree', 'leaf_size': 13, 'n_neighbors': 9, 'p': 1}\n",
      "---------------------\n",
      "\n",
      "Score =  0.5917465726305607\n"
     ]
    }
   ],
   "source": [
    "# model x22\n",
    "kNN_function(x22,y)"
   ]
  },
  {
   "cell_type": "code",
   "execution_count": 23,
   "metadata": {},
   "outputs": [
    {
     "name": "stdout",
     "output_type": "stream",
     "text": [
      "---------------------\n",
      "\n",
      "kNN regression: \n",
      "\n",
      " Liczebność zbioru T =  896 \n",
      " Liczebność zbioru V =  442\n",
      "---------------------\n",
      "\n",
      " Wartość współczynnika R^2 =  -0.08425913547165087\n",
      " Wartość współczynnika mse =  158892381.92683545\n",
      "---------------------\n",
      "\n",
      " Najlepszsze parametry modelu: \n",
      "\n",
      "{'algorithm': 'kd_tree', 'leaf_size': 3, 'n_neighbors': 9, 'p': 2}\n",
      "---------------------\n",
      "\n",
      "Score =  -0.05090910205850707\n"
     ]
    }
   ],
   "source": [
    "# model x23\n",
    "kNN_function(x23,y)"
   ]
  },
  {
   "cell_type": "code",
   "execution_count": 32,
   "metadata": {},
   "outputs": [],
   "source": [
    "# model bez 3 cech\n",
    "x31 = (df[['sex', 'children', 'region']])\n",
    "x32 = (df[['age', 'bmi', 'smoker']])"
   ]
  },
  {
   "cell_type": "code",
   "execution_count": 24,
   "metadata": {},
   "outputs": [
    {
     "name": "stdout",
     "output_type": "stream",
     "text": [
      "---------------------\n",
      "\n",
      "kNN regression: \n",
      "\n",
      " Liczebność zbioru T =  896 \n",
      " Liczebność zbioru V =  442\n",
      "---------------------\n",
      "\n",
      " Wartość współczynnika R^2 =  -0.005519871567086998\n",
      " Wartość współczynnika mse =  147353563.59119877\n",
      "---------------------\n",
      "\n",
      " Najlepszsze parametry modelu: \n",
      "\n",
      "{'algorithm': 'ball_tree', 'leaf_size': 13, 'n_neighbors': 9, 'p': 2}\n",
      "---------------------\n",
      "\n",
      "Score =  -0.008669810268317146\n"
     ]
    }
   ],
   "source": [
    "# model x31\n",
    "kNN_function(x31,y)"
   ]
  },
  {
   "cell_type": "code",
   "execution_count": 25,
   "metadata": {},
   "outputs": [
    {
     "name": "stdout",
     "output_type": "stream",
     "text": [
      "---------------------\n",
      "\n",
      "kNN regression: \n",
      "\n",
      " Liczebność zbioru T =  896 \n",
      " Liczebność zbioru V =  442\n",
      "---------------------\n",
      "\n",
      " Wartość współczynnika R^2 =  0.8264035080188952\n",
      " Wartość współczynnika mse =  25439638.184853207\n",
      "---------------------\n",
      "\n",
      " Najlepszsze parametry modelu: \n",
      "\n",
      "{'algorithm': 'kd_tree', 'leaf_size': 13, 'n_neighbors': 2, 'p': 1}\n",
      "---------------------\n",
      "\n",
      "Score =  0.2469104494230807\n"
     ]
    }
   ],
   "source": [
    "# model x32\n",
    "kNN_function(x32,y)"
   ]
  },
  {
   "cell_type": "code",
   "execution_count": 31,
   "metadata": {},
   "outputs": [],
   "source": [
    "# model bez 4 cech\n",
    "x41 = (df[['age', 'smoker']])\n",
    "x42 = (df[['sex', 'region']])\n",
    "x43 = (df[['age', 'bmi']])\n",
    "x44 = (df[['bmi', 'smoker']])\n",
    "x45 = (df[['children', 'smoker']])"
   ]
  },
  {
   "cell_type": "code",
   "execution_count": 26,
   "metadata": {},
   "outputs": [
    {
     "name": "stdout",
     "output_type": "stream",
     "text": [
      "---------------------\n",
      "\n",
      "kNN regression: \n",
      "\n",
      " Liczebność zbioru T =  896 \n",
      " Liczebność zbioru V =  442\n",
      "---------------------\n",
      "\n",
      " Wartość współczynnika R^2 =  0.6823952718135279\n",
      " Wartość współczynnika mse =  46543275.608022906\n",
      "---------------------\n",
      "\n",
      " Najlepszsze parametry modelu: \n",
      "\n",
      "{'algorithm': 'kd_tree', 'leaf_size': 13, 'n_neighbors': 4, 'p': 1}\n",
      "---------------------\n",
      "\n",
      "Score =  0.6442041330958279\n"
     ]
    }
   ],
   "source": [
    "# model x41\n",
    "kNN_function(x41,y)"
   ]
  },
  {
   "cell_type": "code",
   "execution_count": 27,
   "metadata": {},
   "outputs": [
    {
     "name": "stdout",
     "output_type": "stream",
     "text": [
      "---------------------\n",
      "\n",
      "kNN regression: \n",
      "\n",
      " Liczebność zbioru T =  896 \n",
      " Liczebność zbioru V =  442\n",
      "---------------------\n",
      "\n",
      " Wartość współczynnika R^2 =  -0.10988124094226137\n",
      " Wartość współczynnika mse =  162647164.55675992\n",
      "---------------------\n",
      "\n",
      " Najlepszsze parametry modelu: \n",
      "\n",
      "{'algorithm': 'ball_tree', 'leaf_size': 3, 'n_neighbors': 9, 'p': 1}\n",
      "---------------------\n",
      "\n",
      "Score =  -0.1894364133197608\n"
     ]
    }
   ],
   "source": [
    "# model x42\n",
    "kNN_function(x42,y)"
   ]
  },
  {
   "cell_type": "code",
   "execution_count": 28,
   "metadata": {},
   "outputs": [
    {
     "name": "stdout",
     "output_type": "stream",
     "text": [
      "---------------------\n",
      "\n",
      "kNN regression: \n",
      "\n",
      " Liczebność zbioru T =  896 \n",
      " Liczebność zbioru V =  442\n",
      "---------------------\n",
      "\n",
      " Wartość współczynnika R^2 =  -0.025144632480991636\n",
      " Wartość współczynnika mse =  150229467.42667675\n",
      "---------------------\n",
      "\n",
      " Najlepszsze parametry modelu: \n",
      "\n",
      "{'algorithm': 'ball_tree', 'leaf_size': 13, 'n_neighbors': 9, 'p': 1}\n",
      "---------------------\n",
      "\n",
      "Score =  0.06686727808482795\n"
     ]
    }
   ],
   "source": [
    "# model x43\n",
    "kNN_function(x43,y)"
   ]
  },
  {
   "cell_type": "code",
   "execution_count": 29,
   "metadata": {},
   "outputs": [
    {
     "name": "stdout",
     "output_type": "stream",
     "text": [
      "---------------------\n",
      "\n",
      "kNN regression: \n",
      "\n",
      " Liczebność zbioru T =  896 \n",
      " Liczebność zbioru V =  442\n",
      "---------------------\n",
      "\n",
      " Wartość współczynnika R^2 =  0.7340701631027455\n",
      " Wartość współczynnika mse =  38970596.44476881\n",
      "---------------------\n",
      "\n",
      " Najlepszsze parametry modelu: \n",
      "\n",
      "{'algorithm': 'ball_tree', 'leaf_size': 1, 'n_neighbors': 8, 'p': 1}\n",
      "---------------------\n",
      "\n",
      "Score =  0.686792749159286\n"
     ]
    }
   ],
   "source": [
    "# model x44\n",
    "kNN_function(x44,y)"
   ]
  },
  {
   "cell_type": "code",
   "execution_count": 30,
   "metadata": {},
   "outputs": [
    {
     "name": "stdout",
     "output_type": "stream",
     "text": [
      "---------------------\n",
      "\n",
      "kNN regression: \n",
      "\n",
      " Liczebność zbioru T =  896 \n",
      " Liczebność zbioru V =  442\n",
      "---------------------\n",
      "\n",
      " Wartość współczynnika R^2 =  0.6188856420391742\n",
      " Wartość współczynnika mse =  55850272.45038649\n",
      "---------------------\n",
      "\n",
      " Najlepszsze parametry modelu: \n",
      "\n",
      "{'algorithm': 'ball_tree', 'leaf_size': 3, 'n_neighbors': 9, 'p': 1}\n",
      "---------------------\n",
      "\n",
      "Score =  0.6074281368129719\n"
     ]
    }
   ],
   "source": [
    "# model x45\n",
    "kNN_function(x45,y)"
   ]
  },
  {
   "cell_type": "code",
   "execution_count": null,
   "metadata": {},
   "outputs": [],
   "source": []
  }
 ],
 "metadata": {
  "kernelspec": {
   "display_name": "Python 3",
   "language": "python",
   "name": "python3"
  },
  "language_info": {
   "codemirror_mode": {
    "name": "ipython",
    "version": 3
   },
   "file_extension": ".py",
   "mimetype": "text/x-python",
   "name": "python",
   "nbconvert_exporter": "python",
   "pygments_lexer": "ipython3",
   "version": "3.7.6"
  }
 },
 "nbformat": 4,
 "nbformat_minor": 2
}
