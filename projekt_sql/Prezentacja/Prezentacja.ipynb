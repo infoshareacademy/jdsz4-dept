{
 "cells": [
  {
   "cell_type": "markdown",
   "metadata": {},
   "source": [
    "# Prezentacja SQL\n",
    "\n",
    "[Tableau 1](https://public.tableau.com/profile/pawel5960?fbclid=IwAR0O81ESLQ5sx_qSaL6e77mTHLJftOnwdqE--eYBqIUE3as9KLqcbAO-Its#!/vizhome/23_11_19_sql/Story1?publish=yes)"
   ]
  },
  {
   "cell_type": "code",
   "execution_count": null,
   "metadata": {},
   "outputs": [],
   "source": []
  }
 ],
 "metadata": {
  "kernelspec": {
   "display_name": "Python 3",
   "language": "python",
   "name": "python3"
  },
  "language_info": {
   "codemirror_mode": {
    "name": "ipython",
    "version": 3
   },
   "file_extension": ".py",
   "mimetype": "text/x-python",
   "name": "python",
   "nbconvert_exporter": "python",
   "pygments_lexer": "ipython3",
   "version": "3.7.6"
  }
 },
 "nbformat": 4,
 "nbformat_minor": 2
}
